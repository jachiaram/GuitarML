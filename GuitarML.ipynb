{
  "nbformat": 4,
  "nbformat_minor": 0,
  "metadata": {
    "colab": {
      "provenance": [],
      "include_colab_link": true
    },
    "kernelspec": {
      "name": "python3",
      "display_name": "Python 3"
    },
    "language_info": {
      "name": "python"
    }
  },
  "cells": [
    {
      "cell_type": "markdown",
      "metadata": {
        "id": "view-in-github",
        "colab_type": "text"
      },
      "source": [
        "<a href=\"https://colab.research.google.com/github/jachiaram/GuitarML/blob/main/GuitarML.ipynb\" target=\"_parent\"><img src=\"https://colab.research.google.com/assets/colab-badge.svg\" alt=\"Open In Colab\"/></a>"
      ]
    },
    {
      "cell_type": "markdown",
      "source": [
        "# **Guitar Machine Learning Note Classifier Model V1**"
      ],
      "metadata": {
        "id": "D2lC5__9kCSZ"
      }
    },
    {
      "cell_type": "markdown",
      "source": [
        "## **Install Dependencies:**\n",
        "In this section tensorflow is install if it isn't already present and other dependencies used in the notebook are imported here."
      ],
      "metadata": {
        "id": "LR8qrD0KDYMM"
      }
    },
    {
      "cell_type": "code",
      "execution_count": null,
      "metadata": {
        "id": "moUsGfiM5iAH"
      },
      "outputs": [],
      "source": [
        "!pip install tensorflow==2.8.0 tensorflow-gpu==2.8.0 tensorflow-io matplotlib"
      ]
    },
    {
      "cell_type": "code",
      "source": [
        "import os\n",
        "from matplotlib import pyplot as plt\n",
        "import tensorflow as tf\n",
        "import pandas as pd\n",
        "import numpy as np\n",
        "from sklearn.model_selection import train_test_split\n",
        "from tensorflow.keras.utils import to_categorical\n",
        "from sklearn.preprocessing import LabelEncoder"
      ],
      "metadata": {
        "id": "i8yY8yvJDSzx"
      },
      "execution_count": 1,
      "outputs": []
    },
    {
      "cell_type": "markdown",
      "source": [
        "## **Setting up Training and Testing Data for Model:**\n",
        "In this section the csv file is read in and converted to a dataframe. Then that is split into X and y data, which is then split into training and testing data."
      ],
      "metadata": {
        "id": "8JCzXRddDeE4"
      }
    },
    {
      "cell_type": "code",
      "source": [
        "df = pd.read_csv('https://raw.githubusercontent.com/jachiaram/GuitarML/main/Guitar_features.csv')"
      ],
      "metadata": {
        "id": "ySfIHToMDhu3"
      },
      "execution_count": 13,
      "outputs": []
    },
    {
      "cell_type": "code",
      "source": [
        "y_column = 'note_names'\n",
        "x_columns = ['chroma_stft', 'spectral_centroid', 'spectral_bandwidth', 'spectral_rolloff', 'zero_crossing_rate', 'tonnetz']\n",
        "\n",
        "X = df[x_columns]\n",
        "y = df[y_column]\n",
        "\n",
        "X_train, X_test, y_train, y_test = train_test_split(X, y, test_size=0.2)\n",
        "\n",
        "\n",
        "label_encoder = LabelEncoder()\n",
        "y_train_numeric = label_encoder.fit_transform(y_train)\n",
        "y_test_numeric = label_encoder.fit_transform(y_test)\n",
        "\n",
        "y_train_one_hot = to_categorical(y_train_numeric, num_classes=37)"
      ],
      "metadata": {
        "id": "lEkGA9tb4fIv"
      },
      "execution_count": 14,
      "outputs": []
    },
    {
      "cell_type": "code",
      "source": [
        "X_train.head()"
      ],
      "metadata": {
        "id": "KvWO-ETYHVPn",
        "colab": {
          "base_uri": "https://localhost:8080/",
          "height": 206
        },
        "outputId": "a25fa5c5-f521-4faf-ee5d-2ca66aa2bbf4"
      },
      "execution_count": 15,
      "outputs": [
        {
          "output_type": "execute_result",
          "data": {
            "text/plain": [
              "      chroma_stft  spectral_centroid  spectral_bandwidth  spectral_rolloff  \\\n",
              "1363     0.278707         700.276462         1665.780273        987.718665   \n",
              "782      0.320638        1022.973373         1922.030725       1700.186821   \n",
              "1982     0.217635         628.676797         1801.778931        664.720618   \n",
              "2086     0.184333        2395.893209         2143.029510       3520.678711   \n",
              "1353     0.298975        1399.884443         2049.209154       1586.903448   \n",
              "\n",
              "      zero_crossing_rate   tonnetz  \n",
              "1363            0.009787  0.044815  \n",
              "782             0.014733 -0.019958  \n",
              "1982            0.012600  0.077506  \n",
              "2086            0.088899  0.030428  \n",
              "1353            0.058488  0.032899  "
            ],
            "text/html": [
              "\n",
              "  <div id=\"df-a3f186a7-caec-4329-8534-5b4fd55fcb45\" class=\"colab-df-container\">\n",
              "    <div>\n",
              "<style scoped>\n",
              "    .dataframe tbody tr th:only-of-type {\n",
              "        vertical-align: middle;\n",
              "    }\n",
              "\n",
              "    .dataframe tbody tr th {\n",
              "        vertical-align: top;\n",
              "    }\n",
              "\n",
              "    .dataframe thead th {\n",
              "        text-align: right;\n",
              "    }\n",
              "</style>\n",
              "<table border=\"1\" class=\"dataframe\">\n",
              "  <thead>\n",
              "    <tr style=\"text-align: right;\">\n",
              "      <th></th>\n",
              "      <th>chroma_stft</th>\n",
              "      <th>spectral_centroid</th>\n",
              "      <th>spectral_bandwidth</th>\n",
              "      <th>spectral_rolloff</th>\n",
              "      <th>zero_crossing_rate</th>\n",
              "      <th>tonnetz</th>\n",
              "    </tr>\n",
              "  </thead>\n",
              "  <tbody>\n",
              "    <tr>\n",
              "      <th>1363</th>\n",
              "      <td>0.278707</td>\n",
              "      <td>700.276462</td>\n",
              "      <td>1665.780273</td>\n",
              "      <td>987.718665</td>\n",
              "      <td>0.009787</td>\n",
              "      <td>0.044815</td>\n",
              "    </tr>\n",
              "    <tr>\n",
              "      <th>782</th>\n",
              "      <td>0.320638</td>\n",
              "      <td>1022.973373</td>\n",
              "      <td>1922.030725</td>\n",
              "      <td>1700.186821</td>\n",
              "      <td>0.014733</td>\n",
              "      <td>-0.019958</td>\n",
              "    </tr>\n",
              "    <tr>\n",
              "      <th>1982</th>\n",
              "      <td>0.217635</td>\n",
              "      <td>628.676797</td>\n",
              "      <td>1801.778931</td>\n",
              "      <td>664.720618</td>\n",
              "      <td>0.012600</td>\n",
              "      <td>0.077506</td>\n",
              "    </tr>\n",
              "    <tr>\n",
              "      <th>2086</th>\n",
              "      <td>0.184333</td>\n",
              "      <td>2395.893209</td>\n",
              "      <td>2143.029510</td>\n",
              "      <td>3520.678711</td>\n",
              "      <td>0.088899</td>\n",
              "      <td>0.030428</td>\n",
              "    </tr>\n",
              "    <tr>\n",
              "      <th>1353</th>\n",
              "      <td>0.298975</td>\n",
              "      <td>1399.884443</td>\n",
              "      <td>2049.209154</td>\n",
              "      <td>1586.903448</td>\n",
              "      <td>0.058488</td>\n",
              "      <td>0.032899</td>\n",
              "    </tr>\n",
              "  </tbody>\n",
              "</table>\n",
              "</div>\n",
              "    <div class=\"colab-df-buttons\">\n",
              "\n",
              "  <div class=\"colab-df-container\">\n",
              "    <button class=\"colab-df-convert\" onclick=\"convertToInteractive('df-a3f186a7-caec-4329-8534-5b4fd55fcb45')\"\n",
              "            title=\"Convert this dataframe to an interactive table.\"\n",
              "            style=\"display:none;\">\n",
              "\n",
              "  <svg xmlns=\"http://www.w3.org/2000/svg\" height=\"24px\" viewBox=\"0 -960 960 960\">\n",
              "    <path d=\"M120-120v-720h720v720H120Zm60-500h600v-160H180v160Zm220 220h160v-160H400v160Zm0 220h160v-160H400v160ZM180-400h160v-160H180v160Zm440 0h160v-160H620v160ZM180-180h160v-160H180v160Zm440 0h160v-160H620v160Z\"/>\n",
              "  </svg>\n",
              "    </button>\n",
              "\n",
              "  <style>\n",
              "    .colab-df-container {\n",
              "      display:flex;\n",
              "      gap: 12px;\n",
              "    }\n",
              "\n",
              "    .colab-df-convert {\n",
              "      background-color: #E8F0FE;\n",
              "      border: none;\n",
              "      border-radius: 50%;\n",
              "      cursor: pointer;\n",
              "      display: none;\n",
              "      fill: #1967D2;\n",
              "      height: 32px;\n",
              "      padding: 0 0 0 0;\n",
              "      width: 32px;\n",
              "    }\n",
              "\n",
              "    .colab-df-convert:hover {\n",
              "      background-color: #E2EBFA;\n",
              "      box-shadow: 0px 1px 2px rgba(60, 64, 67, 0.3), 0px 1px 3px 1px rgba(60, 64, 67, 0.15);\n",
              "      fill: #174EA6;\n",
              "    }\n",
              "\n",
              "    .colab-df-buttons div {\n",
              "      margin-bottom: 4px;\n",
              "    }\n",
              "\n",
              "    [theme=dark] .colab-df-convert {\n",
              "      background-color: #3B4455;\n",
              "      fill: #D2E3FC;\n",
              "    }\n",
              "\n",
              "    [theme=dark] .colab-df-convert:hover {\n",
              "      background-color: #434B5C;\n",
              "      box-shadow: 0px 1px 3px 1px rgba(0, 0, 0, 0.15);\n",
              "      filter: drop-shadow(0px 1px 2px rgba(0, 0, 0, 0.3));\n",
              "      fill: #FFFFFF;\n",
              "    }\n",
              "  </style>\n",
              "\n",
              "    <script>\n",
              "      const buttonEl =\n",
              "        document.querySelector('#df-a3f186a7-caec-4329-8534-5b4fd55fcb45 button.colab-df-convert');\n",
              "      buttonEl.style.display =\n",
              "        google.colab.kernel.accessAllowed ? 'block' : 'none';\n",
              "\n",
              "      async function convertToInteractive(key) {\n",
              "        const element = document.querySelector('#df-a3f186a7-caec-4329-8534-5b4fd55fcb45');\n",
              "        const dataTable =\n",
              "          await google.colab.kernel.invokeFunction('convertToInteractive',\n",
              "                                                    [key], {});\n",
              "        if (!dataTable) return;\n",
              "\n",
              "        const docLinkHtml = 'Like what you see? Visit the ' +\n",
              "          '<a target=\"_blank\" href=https://colab.research.google.com/notebooks/data_table.ipynb>data table notebook</a>'\n",
              "          + ' to learn more about interactive tables.';\n",
              "        element.innerHTML = '';\n",
              "        dataTable['output_type'] = 'display_data';\n",
              "        await google.colab.output.renderOutput(dataTable, element);\n",
              "        const docLink = document.createElement('div');\n",
              "        docLink.innerHTML = docLinkHtml;\n",
              "        element.appendChild(docLink);\n",
              "      }\n",
              "    </script>\n",
              "  </div>\n",
              "\n",
              "\n",
              "<div id=\"df-209f5514-fa83-47ca-82aa-8b00ea6b873d\">\n",
              "  <button class=\"colab-df-quickchart\" onclick=\"quickchart('df-209f5514-fa83-47ca-82aa-8b00ea6b873d')\"\n",
              "            title=\"Suggest charts\"\n",
              "            style=\"display:none;\">\n",
              "\n",
              "<svg xmlns=\"http://www.w3.org/2000/svg\" height=\"24px\"viewBox=\"0 0 24 24\"\n",
              "     width=\"24px\">\n",
              "    <g>\n",
              "        <path d=\"M19 3H5c-1.1 0-2 .9-2 2v14c0 1.1.9 2 2 2h14c1.1 0 2-.9 2-2V5c0-1.1-.9-2-2-2zM9 17H7v-7h2v7zm4 0h-2V7h2v10zm4 0h-2v-4h2v4z\"/>\n",
              "    </g>\n",
              "</svg>\n",
              "  </button>\n",
              "\n",
              "<style>\n",
              "  .colab-df-quickchart {\n",
              "      --bg-color: #E8F0FE;\n",
              "      --fill-color: #1967D2;\n",
              "      --hover-bg-color: #E2EBFA;\n",
              "      --hover-fill-color: #174EA6;\n",
              "      --disabled-fill-color: #AAA;\n",
              "      --disabled-bg-color: #DDD;\n",
              "  }\n",
              "\n",
              "  [theme=dark] .colab-df-quickchart {\n",
              "      --bg-color: #3B4455;\n",
              "      --fill-color: #D2E3FC;\n",
              "      --hover-bg-color: #434B5C;\n",
              "      --hover-fill-color: #FFFFFF;\n",
              "      --disabled-bg-color: #3B4455;\n",
              "      --disabled-fill-color: #666;\n",
              "  }\n",
              "\n",
              "  .colab-df-quickchart {\n",
              "    background-color: var(--bg-color);\n",
              "    border: none;\n",
              "    border-radius: 50%;\n",
              "    cursor: pointer;\n",
              "    display: none;\n",
              "    fill: var(--fill-color);\n",
              "    height: 32px;\n",
              "    padding: 0;\n",
              "    width: 32px;\n",
              "  }\n",
              "\n",
              "  .colab-df-quickchart:hover {\n",
              "    background-color: var(--hover-bg-color);\n",
              "    box-shadow: 0 1px 2px rgba(60, 64, 67, 0.3), 0 1px 3px 1px rgba(60, 64, 67, 0.15);\n",
              "    fill: var(--button-hover-fill-color);\n",
              "  }\n",
              "\n",
              "  .colab-df-quickchart-complete:disabled,\n",
              "  .colab-df-quickchart-complete:disabled:hover {\n",
              "    background-color: var(--disabled-bg-color);\n",
              "    fill: var(--disabled-fill-color);\n",
              "    box-shadow: none;\n",
              "  }\n",
              "\n",
              "  .colab-df-spinner {\n",
              "    border: 2px solid var(--fill-color);\n",
              "    border-color: transparent;\n",
              "    border-bottom-color: var(--fill-color);\n",
              "    animation:\n",
              "      spin 1s steps(1) infinite;\n",
              "  }\n",
              "\n",
              "  @keyframes spin {\n",
              "    0% {\n",
              "      border-color: transparent;\n",
              "      border-bottom-color: var(--fill-color);\n",
              "      border-left-color: var(--fill-color);\n",
              "    }\n",
              "    20% {\n",
              "      border-color: transparent;\n",
              "      border-left-color: var(--fill-color);\n",
              "      border-top-color: var(--fill-color);\n",
              "    }\n",
              "    30% {\n",
              "      border-color: transparent;\n",
              "      border-left-color: var(--fill-color);\n",
              "      border-top-color: var(--fill-color);\n",
              "      border-right-color: var(--fill-color);\n",
              "    }\n",
              "    40% {\n",
              "      border-color: transparent;\n",
              "      border-right-color: var(--fill-color);\n",
              "      border-top-color: var(--fill-color);\n",
              "    }\n",
              "    60% {\n",
              "      border-color: transparent;\n",
              "      border-right-color: var(--fill-color);\n",
              "    }\n",
              "    80% {\n",
              "      border-color: transparent;\n",
              "      border-right-color: var(--fill-color);\n",
              "      border-bottom-color: var(--fill-color);\n",
              "    }\n",
              "    90% {\n",
              "      border-color: transparent;\n",
              "      border-bottom-color: var(--fill-color);\n",
              "    }\n",
              "  }\n",
              "</style>\n",
              "\n",
              "  <script>\n",
              "    async function quickchart(key) {\n",
              "      const quickchartButtonEl =\n",
              "        document.querySelector('#' + key + ' button');\n",
              "      quickchartButtonEl.disabled = true;  // To prevent multiple clicks.\n",
              "      quickchartButtonEl.classList.add('colab-df-spinner');\n",
              "      try {\n",
              "        const charts = await google.colab.kernel.invokeFunction(\n",
              "            'suggestCharts', [key], {});\n",
              "      } catch (error) {\n",
              "        console.error('Error during call to suggestCharts:', error);\n",
              "      }\n",
              "      quickchartButtonEl.classList.remove('colab-df-spinner');\n",
              "      quickchartButtonEl.classList.add('colab-df-quickchart-complete');\n",
              "    }\n",
              "    (() => {\n",
              "      let quickchartButtonEl =\n",
              "        document.querySelector('#df-209f5514-fa83-47ca-82aa-8b00ea6b873d button');\n",
              "      quickchartButtonEl.style.display =\n",
              "        google.colab.kernel.accessAllowed ? 'block' : 'none';\n",
              "    })();\n",
              "  </script>\n",
              "</div>\n",
              "    </div>\n",
              "  </div>\n"
            ]
          },
          "metadata": {},
          "execution_count": 15
        }
      ]
    },
    {
      "cell_type": "code",
      "source": [
        "y_train.head()"
      ],
      "metadata": {
        "colab": {
          "base_uri": "https://localhost:8080/"
        },
        "id": "8YZrdoro6CIy",
        "outputId": "e0b0bf64-389f-43ec-c7d1-194a3d29f539"
      },
      "execution_count": 16,
      "outputs": [
        {
          "output_type": "execute_result",
          "data": {
            "text/plain": [
              "1363    18. A1\n",
              "782     20. B1\n",
              "1982    13. E1\n",
              "2086    30. A2\n",
              "1353    18. A1\n",
              "Name: note_names, dtype: object"
            ]
          },
          "metadata": {},
          "execution_count": 16
        }
      ]
    },
    {
      "cell_type": "markdown",
      "source": [
        "## **Sequential Model Testing:**\n",
        "In this section the model will be created, for the time being a sequential model is being used. The layers will need to be manipulated until a higher accuracy score is achieved (the goal is above 75%).\n"
      ],
      "metadata": {
        "id": "JJ3CTsw4hclG"
      }
    },
    {
      "cell_type": "code",
      "source": [
        "from tensorflow.keras.models import Sequential, load_model\n",
        "from tensorflow.keras.layers import Dense\n",
        "from sklearn.metrics import accuracy_score"
      ],
      "metadata": {
        "id": "Jq5iXDqN5CFn"
      },
      "execution_count": 17,
      "outputs": []
    },
    {
      "cell_type": "code",
      "source": [
        "model = Sequential()\n",
        "model.add(Dense(units=64, activation='relu', input_dim=len(X_train.columns)))\n",
        "model.add(Dense(units=128, activation='relu'))\n",
        "model.add(Dense(units=256, activation='relu'))\n",
        "model.add(Dense(units=128, activation='relu'))\n",
        "model.add(Dense(units=64, activation='relu'))\n",
        "model.add(Dense(units=37, activation='softmax'))"
      ],
      "metadata": {
        "id": "b9iavLVC5Mwl"
      },
      "execution_count": 18,
      "outputs": []
    },
    {
      "cell_type": "code",
      "source": [
        "from keras.optimizers import Adam\n",
        "optimizer = Adam(learning_rate=0.001)\n",
        "model.compile(optimizer=optimizer, loss='categorical_crossentropy', metrics=['accuracy'])"
      ],
      "metadata": {
        "id": "58yfGLCt5W41"
      },
      "execution_count": 19,
      "outputs": []
    },
    {
      "cell_type": "code",
      "source": [
        "model.fit(X_train, y_train_one_hot, epochs=50, batch_size=10)"
      ],
      "metadata": {
        "id": "ZWqHxnyy5ZQX",
        "colab": {
          "base_uri": "https://localhost:8080/"
        },
        "outputId": "8a4b92eb-6024-4b6d-ac7c-790561f06c60"
      },
      "execution_count": 21,
      "outputs": [
        {
          "output_type": "stream",
          "name": "stdout",
          "text": [
            "Epoch 1/50\n",
            "182/182 [==============================] - 1s 6ms/step - loss: 3.6345 - accuracy: 0.0281\n",
            "Epoch 2/50\n",
            "182/182 [==============================] - 1s 6ms/step - loss: 3.6826 - accuracy: 0.0264\n",
            "Epoch 3/50\n",
            "182/182 [==============================] - 1s 5ms/step - loss: 3.6186 - accuracy: 0.0270\n",
            "Epoch 4/50\n",
            "182/182 [==============================] - 1s 5ms/step - loss: 3.6109 - accuracy: 0.0264\n",
            "Epoch 5/50\n",
            "182/182 [==============================] - 1s 4ms/step - loss: 3.6107 - accuracy: 0.0275\n",
            "Epoch 6/50\n",
            "182/182 [==============================] - 1s 3ms/step - loss: 3.6106 - accuracy: 0.0303\n",
            "Epoch 7/50\n",
            "182/182 [==============================] - 1s 4ms/step - loss: 3.6104 - accuracy: 0.0303\n",
            "Epoch 8/50\n",
            "182/182 [==============================] - 1s 4ms/step - loss: 3.6103 - accuracy: 0.0303\n",
            "Epoch 9/50\n",
            "182/182 [==============================] - 1s 3ms/step - loss: 3.6102 - accuracy: 0.0303\n",
            "Epoch 10/50\n",
            "182/182 [==============================] - 1s 3ms/step - loss: 3.6102 - accuracy: 0.0303\n",
            "Epoch 11/50\n",
            "182/182 [==============================] - 1s 4ms/step - loss: 3.6101 - accuracy: 0.0303\n",
            "Epoch 12/50\n",
            "182/182 [==============================] - 1s 4ms/step - loss: 3.6101 - accuracy: 0.0303\n",
            "Epoch 13/50\n",
            "182/182 [==============================] - 1s 3ms/step - loss: 3.6100 - accuracy: 0.0303\n",
            "Epoch 14/50\n",
            "182/182 [==============================] - 1s 3ms/step - loss: 3.6099 - accuracy: 0.0303\n",
            "Epoch 15/50\n",
            "182/182 [==============================] - 1s 3ms/step - loss: 3.6099 - accuracy: 0.0264\n",
            "Epoch 16/50\n",
            "182/182 [==============================] - 1s 3ms/step - loss: 3.6099 - accuracy: 0.0303\n",
            "Epoch 17/50\n",
            "182/182 [==============================] - 1s 4ms/step - loss: 3.6099 - accuracy: 0.0303\n",
            "Epoch 18/50\n",
            "182/182 [==============================] - 1s 4ms/step - loss: 3.6098 - accuracy: 0.0303\n",
            "Epoch 19/50\n",
            "182/182 [==============================] - 1s 3ms/step - loss: 3.6099 - accuracy: 0.0303\n",
            "Epoch 20/50\n",
            "182/182 [==============================] - 1s 3ms/step - loss: 3.6098 - accuracy: 0.0303\n",
            "Epoch 21/50\n",
            "182/182 [==============================] - 1s 5ms/step - loss: 3.6098 - accuracy: 0.0303\n",
            "Epoch 22/50\n",
            "182/182 [==============================] - 1s 5ms/step - loss: 3.6098 - accuracy: 0.0303\n",
            "Epoch 23/50\n",
            "182/182 [==============================] - 1s 6ms/step - loss: 3.6098 - accuracy: 0.0303\n",
            "Epoch 24/50\n",
            "182/182 [==============================] - 1s 4ms/step - loss: 3.6098 - accuracy: 0.0275\n",
            "Epoch 25/50\n",
            "182/182 [==============================] - 1s 3ms/step - loss: 3.6097 - accuracy: 0.0303\n",
            "Epoch 26/50\n",
            "182/182 [==============================] - 1s 3ms/step - loss: 3.6098 - accuracy: 0.0303\n",
            "Epoch 27/50\n",
            "182/182 [==============================] - 1s 3ms/step - loss: 3.6098 - accuracy: 0.0303\n",
            "Epoch 28/50\n",
            "182/182 [==============================] - 1s 3ms/step - loss: 3.6098 - accuracy: 0.0303\n",
            "Epoch 29/50\n",
            "182/182 [==============================] - 1s 3ms/step - loss: 3.6098 - accuracy: 0.0303\n",
            "Epoch 30/50\n",
            "182/182 [==============================] - 1s 3ms/step - loss: 3.6098 - accuracy: 0.0303\n",
            "Epoch 31/50\n",
            "182/182 [==============================] - 1s 3ms/step - loss: 3.6098 - accuracy: 0.0303\n",
            "Epoch 32/50\n",
            "182/182 [==============================] - 1s 4ms/step - loss: 3.6098 - accuracy: 0.0303\n",
            "Epoch 33/50\n",
            "182/182 [==============================] - 1s 4ms/step - loss: 3.6098 - accuracy: 0.0303\n",
            "Epoch 34/50\n",
            "182/182 [==============================] - 1s 4ms/step - loss: 3.6098 - accuracy: 0.0303\n",
            "Epoch 35/50\n",
            "182/182 [==============================] - 1s 3ms/step - loss: 3.6098 - accuracy: 0.0303\n",
            "Epoch 36/50\n",
            "182/182 [==============================] - 1s 3ms/step - loss: 3.6098 - accuracy: 0.0303\n",
            "Epoch 37/50\n",
            "182/182 [==============================] - 1s 4ms/step - loss: 3.6097 - accuracy: 0.0286\n",
            "Epoch 38/50\n",
            "182/182 [==============================] - 1s 3ms/step - loss: 3.6098 - accuracy: 0.0303\n",
            "Epoch 39/50\n",
            "182/182 [==============================] - 1s 4ms/step - loss: 3.6097 - accuracy: 0.0303\n",
            "Epoch 40/50\n",
            "182/182 [==============================] - 1s 5ms/step - loss: 3.6098 - accuracy: 0.0303\n",
            "Epoch 41/50\n",
            "182/182 [==============================] - 1s 5ms/step - loss: 3.6099 - accuracy: 0.0303\n",
            "Epoch 42/50\n",
            "182/182 [==============================] - 1s 4ms/step - loss: 3.6097 - accuracy: 0.0303\n",
            "Epoch 43/50\n",
            "182/182 [==============================] - 1s 3ms/step - loss: 3.6097 - accuracy: 0.0303\n",
            "Epoch 44/50\n",
            "182/182 [==============================] - 1s 3ms/step - loss: 3.6098 - accuracy: 0.0281\n",
            "Epoch 45/50\n",
            "182/182 [==============================] - 1s 3ms/step - loss: 3.6097 - accuracy: 0.0303\n",
            "Epoch 46/50\n",
            "182/182 [==============================] - 1s 3ms/step - loss: 3.6097 - accuracy: 0.0303\n",
            "Epoch 47/50\n",
            "182/182 [==============================] - 1s 4ms/step - loss: 3.6097 - accuracy: 0.0303\n",
            "Epoch 48/50\n",
            "182/182 [==============================] - 1s 3ms/step - loss: 3.6098 - accuracy: 0.0303\n",
            "Epoch 49/50\n",
            "182/182 [==============================] - 1s 4ms/step - loss: 3.6098 - accuracy: 0.0303\n",
            "Epoch 50/50\n",
            "182/182 [==============================] - 1s 4ms/step - loss: 3.6098 - accuracy: 0.0303\n"
          ]
        },
        {
          "output_type": "execute_result",
          "data": {
            "text/plain": [
              "<keras.src.callbacks.History at 0x7e76efcd3070>"
            ]
          },
          "metadata": {},
          "execution_count": 21
        }
      ]
    },
    {
      "cell_type": "code",
      "source": [
        "from tensorflow.keras.utils import to_categorical\n",
        "# Convert categorical test labels to one-hot encoding\n",
        "y_test_one_hot = to_categorical(label_encoder.transform(y_test), num_classes=37)\n",
        "\n",
        "# Evaluate the model on the test set\n",
        "loss, accuracy = model.evaluate(X_test, y_test_one_hot)\n",
        "\n",
        "print(f'Test Loss: {loss:.4f}')\n",
        "print(f'Test Accuracy: {accuracy:.4f}')"
      ],
      "metadata": {
        "id": "omkY1WQwjQKJ",
        "colab": {
          "base_uri": "https://localhost:8080/"
        },
        "outputId": "a9932c92-22d9-4a61-fa50-627981b85997"
      },
      "execution_count": 22,
      "outputs": [
        {
          "output_type": "stream",
          "name": "stdout",
          "text": [
            "15/15 [==============================] - 0s 2ms/step - loss: 3.6283 - accuracy: 0.0132\n",
            "Test Loss: 3.6283\n",
            "Test Accuracy: 0.0132\n"
          ]
        }
      ]
    },
    {
      "cell_type": "markdown",
      "source": [
        "## **Testing a Different Model Type:**\n",
        "In this section I was experimenting with a Random Forest Classifier to see if I could get any better results with this model versus the other one."
      ],
      "metadata": {
        "id": "6ew5KtgwwCTk"
      }
    },
    {
      "cell_type": "code",
      "source": [
        "from sklearn.ensemble import RandomForestClassifier\n",
        "from sklearn.metrics import accuracy_score\n",
        "from sklearn.preprocessing import LabelEncoder\n",
        "from sklearn.model_selection import train_test_split\n",
        "\n",
        "# Assuming X_train and y_train are your training data and labels\n",
        "# Assuming X_test and y_test are your test data and labels"
      ],
      "metadata": {
        "id": "WlJ-yY2JrpVh"
      },
      "execution_count": 23,
      "outputs": []
    },
    {
      "cell_type": "code",
      "source": [
        "# Convert string labels to numeric\n",
        "label_encoder = LabelEncoder()\n",
        "y_train_encoded = label_encoder.fit_transform(y_train)\n",
        "y_test_encoded = label_encoder.transform(y_test)\n",
        "y_train_encoded"
      ],
      "metadata": {
        "id": "A0R4RL4mrtMf",
        "colab": {
          "base_uri": "https://localhost:8080/"
        },
        "outputId": "ef843ffa-f37a-45d2-95ac-d8fc508d2c2e"
      },
      "execution_count": 26,
      "outputs": [
        {
          "output_type": "execute_result",
          "data": {
            "text/plain": [
              "array([ 9, 12,  4, ..., 33, 33, 14])"
            ]
          },
          "metadata": {},
          "execution_count": 26
        }
      ]
    },
    {
      "cell_type": "code",
      "source": [
        "# Initialize the Random Forest classifier\n",
        "rf_classifier = RandomForestClassifier(max_depth=20, min_samples_split=5, min_samples_leaf=16, max_features='log2', n_estimators=300, random_state=42)"
      ],
      "metadata": {
        "id": "aaEtbhJtrTBm"
      },
      "execution_count": 27,
      "outputs": []
    },
    {
      "cell_type": "code",
      "source": [
        "# Train the Random Forest classifier\n",
        "rf_classifier.fit(X_train, y_train_encoded)"
      ],
      "metadata": {
        "colab": {
          "base_uri": "https://localhost:8080/",
          "height": 92
        },
        "id": "Fu2lGgZcr6WY",
        "outputId": "4ead64eb-112d-4df8-93be-21115ac348f2"
      },
      "execution_count": 28,
      "outputs": [
        {
          "output_type": "execute_result",
          "data": {
            "text/plain": [
              "RandomForestClassifier(max_depth=20, max_features='log2', min_samples_leaf=16,\n",
              "                       min_samples_split=5, n_estimators=300, random_state=42)"
            ],
            "text/html": [
              "<style>#sk-container-id-1 {color: black;background-color: white;}#sk-container-id-1 pre{padding: 0;}#sk-container-id-1 div.sk-toggleable {background-color: white;}#sk-container-id-1 label.sk-toggleable__label {cursor: pointer;display: block;width: 100%;margin-bottom: 0;padding: 0.3em;box-sizing: border-box;text-align: center;}#sk-container-id-1 label.sk-toggleable__label-arrow:before {content: \"▸\";float: left;margin-right: 0.25em;color: #696969;}#sk-container-id-1 label.sk-toggleable__label-arrow:hover:before {color: black;}#sk-container-id-1 div.sk-estimator:hover label.sk-toggleable__label-arrow:before {color: black;}#sk-container-id-1 div.sk-toggleable__content {max-height: 0;max-width: 0;overflow: hidden;text-align: left;background-color: #f0f8ff;}#sk-container-id-1 div.sk-toggleable__content pre {margin: 0.2em;color: black;border-radius: 0.25em;background-color: #f0f8ff;}#sk-container-id-1 input.sk-toggleable__control:checked~div.sk-toggleable__content {max-height: 200px;max-width: 100%;overflow: auto;}#sk-container-id-1 input.sk-toggleable__control:checked~label.sk-toggleable__label-arrow:before {content: \"▾\";}#sk-container-id-1 div.sk-estimator input.sk-toggleable__control:checked~label.sk-toggleable__label {background-color: #d4ebff;}#sk-container-id-1 div.sk-label input.sk-toggleable__control:checked~label.sk-toggleable__label {background-color: #d4ebff;}#sk-container-id-1 input.sk-hidden--visually {border: 0;clip: rect(1px 1px 1px 1px);clip: rect(1px, 1px, 1px, 1px);height: 1px;margin: -1px;overflow: hidden;padding: 0;position: absolute;width: 1px;}#sk-container-id-1 div.sk-estimator {font-family: monospace;background-color: #f0f8ff;border: 1px dotted black;border-radius: 0.25em;box-sizing: border-box;margin-bottom: 0.5em;}#sk-container-id-1 div.sk-estimator:hover {background-color: #d4ebff;}#sk-container-id-1 div.sk-parallel-item::after {content: \"\";width: 100%;border-bottom: 1px solid gray;flex-grow: 1;}#sk-container-id-1 div.sk-label:hover label.sk-toggleable__label {background-color: #d4ebff;}#sk-container-id-1 div.sk-serial::before {content: \"\";position: absolute;border-left: 1px solid gray;box-sizing: border-box;top: 0;bottom: 0;left: 50%;z-index: 0;}#sk-container-id-1 div.sk-serial {display: flex;flex-direction: column;align-items: center;background-color: white;padding-right: 0.2em;padding-left: 0.2em;position: relative;}#sk-container-id-1 div.sk-item {position: relative;z-index: 1;}#sk-container-id-1 div.sk-parallel {display: flex;align-items: stretch;justify-content: center;background-color: white;position: relative;}#sk-container-id-1 div.sk-item::before, #sk-container-id-1 div.sk-parallel-item::before {content: \"\";position: absolute;border-left: 1px solid gray;box-sizing: border-box;top: 0;bottom: 0;left: 50%;z-index: -1;}#sk-container-id-1 div.sk-parallel-item {display: flex;flex-direction: column;z-index: 1;position: relative;background-color: white;}#sk-container-id-1 div.sk-parallel-item:first-child::after {align-self: flex-end;width: 50%;}#sk-container-id-1 div.sk-parallel-item:last-child::after {align-self: flex-start;width: 50%;}#sk-container-id-1 div.sk-parallel-item:only-child::after {width: 0;}#sk-container-id-1 div.sk-dashed-wrapped {border: 1px dashed gray;margin: 0 0.4em 0.5em 0.4em;box-sizing: border-box;padding-bottom: 0.4em;background-color: white;}#sk-container-id-1 div.sk-label label {font-family: monospace;font-weight: bold;display: inline-block;line-height: 1.2em;}#sk-container-id-1 div.sk-label-container {text-align: center;}#sk-container-id-1 div.sk-container {/* jupyter's `normalize.less` sets `[hidden] { display: none; }` but bootstrap.min.css set `[hidden] { display: none !important; }` so we also need the `!important` here to be able to override the default hidden behavior on the sphinx rendered scikit-learn.org. See: https://github.com/scikit-learn/scikit-learn/issues/21755 */display: inline-block !important;position: relative;}#sk-container-id-1 div.sk-text-repr-fallback {display: none;}</style><div id=\"sk-container-id-1\" class=\"sk-top-container\"><div class=\"sk-text-repr-fallback\"><pre>RandomForestClassifier(max_depth=20, max_features=&#x27;log2&#x27;, min_samples_leaf=16,\n",
              "                       min_samples_split=5, n_estimators=300, random_state=42)</pre><b>In a Jupyter environment, please rerun this cell to show the HTML representation or trust the notebook. <br />On GitHub, the HTML representation is unable to render, please try loading this page with nbviewer.org.</b></div><div class=\"sk-container\" hidden><div class=\"sk-item\"><div class=\"sk-estimator sk-toggleable\"><input class=\"sk-toggleable__control sk-hidden--visually\" id=\"sk-estimator-id-1\" type=\"checkbox\" checked><label for=\"sk-estimator-id-1\" class=\"sk-toggleable__label sk-toggleable__label-arrow\">RandomForestClassifier</label><div class=\"sk-toggleable__content\"><pre>RandomForestClassifier(max_depth=20, max_features=&#x27;log2&#x27;, min_samples_leaf=16,\n",
              "                       min_samples_split=5, n_estimators=300, random_state=42)</pre></div></div></div></div></div>"
            ]
          },
          "metadata": {},
          "execution_count": 28
        }
      ]
    },
    {
      "cell_type": "code",
      "source": [
        "# Make predictions on the test set\n",
        "y_pred = rf_classifier.predict(X_test)"
      ],
      "metadata": {
        "id": "5w9di-a7tDBU"
      },
      "execution_count": 29,
      "outputs": []
    },
    {
      "cell_type": "code",
      "source": [
        "# Convert predictions back to original labels\n",
        "y_pred_original = label_encoder.inverse_transform(y_pred)\n",
        "\n",
        "# Evaluate accuracy\n",
        "accuracy = accuracy_score(y_test, y_pred_original)\n",
        "print(f\"Accuracy: {accuracy}\")"
      ],
      "metadata": {
        "colab": {
          "base_uri": "https://localhost:8080/"
        },
        "id": "jrgw4rDrrx3K",
        "outputId": "d131d702-2779-4ea3-b6be-912b42d49082"
      },
      "execution_count": 30,
      "outputs": [
        {
          "output_type": "stream",
          "name": "stdout",
          "text": [
            "Accuracy: 0.6255506607929515\n"
          ]
        }
      ]
    }
  ]
}