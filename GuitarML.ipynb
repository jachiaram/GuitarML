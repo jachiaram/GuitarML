{
  "nbformat": 4,
  "nbformat_minor": 0,
  "metadata": {
    "colab": {
      "provenance": [],
      "include_colab_link": true
    },
    "kernelspec": {
      "name": "python3",
      "display_name": "Python 3"
    },
    "language_info": {
      "name": "python"
    }
  },
  "cells": [
    {
      "cell_type": "markdown",
      "metadata": {
        "id": "view-in-github",
        "colab_type": "text"
      },
      "source": [
        "<a href=\"https://colab.research.google.com/github/jachiaram/GuitarML/blob/main/GuitarML.ipynb\" target=\"_parent\"><img src=\"https://colab.research.google.com/assets/colab-badge.svg\" alt=\"Open In Colab\"/></a>"
      ]
    },
    {
      "cell_type": "markdown",
      "source": [
        "# **Guitar Machine Learning Note Classifier Model V1**"
      ],
      "metadata": {
        "id": "D2lC5__9kCSZ"
      }
    },
    {
      "cell_type": "markdown",
      "source": [
        "## **Install Dependencies:**\n",
        "In this section tensorflow is install if it isn't already present and other dependencies used in the notebook are imported here."
      ],
      "metadata": {
        "id": "LR8qrD0KDYMM"
      }
    },
    {
      "cell_type": "code",
      "execution_count": null,
      "metadata": {
        "id": "moUsGfiM5iAH"
      },
      "outputs": [],
      "source": [
        "!pip install tensorflow==2.8.0 tensorflow-gpu==2.8.0 tensorflow-io matplotlib"
      ]
    },
    {
      "cell_type": "code",
      "source": [
        "import os\n",
        "from matplotlib import pyplot as plt\n",
        "import tensorflow as tf\n",
        "import pandas as pd\n",
        "import numpy as np\n",
        "from sklearn.model_selection import train_test_split\n",
        "from tensorflow.keras.utils import to_categorical\n",
        "from sklearn.preprocessing import LabelEncoder"
      ],
      "metadata": {
        "id": "i8yY8yvJDSzx"
      },
      "execution_count": 1,
      "outputs": []
    },
    {
      "cell_type": "markdown",
      "source": [
        "## **Setting up Training and Testing Data for Model:**\n",
        "In this section the csv file is read in and converted to a dataframe. Then that is split into X and y data, which is then split into training and testing data."
      ],
      "metadata": {
        "id": "8JCzXRddDeE4"
      }
    },
    {
      "cell_type": "code",
      "source": [
        "# df = pd.read_csv('https://raw.githubusercontent.com/jachiaram/GuitarML/main/Guitar_features.csv')\n",
        "df = pd.read_csv('https://raw.githubusercontent.com/jachiaram/GuitarML/main/Guitar_features%20(1).csv')"
      ],
      "metadata": {
        "id": "ySfIHToMDhu3"
      },
      "execution_count": 94,
      "outputs": []
    },
    {
      "cell_type": "code",
      "source": [
        "y_column = 'note_names'\n",
        "x_columns = ['chroma_stft', 'spectral_centroid', 'spectral_bandwidth', 'spectral_rolloff', 'spectral_contrast', 'mfcc', 'zero_crossing_rate', 'rms', 'tonnetz']\n",
        "\n",
        "notes = df[y_column].values\n",
        "\n",
        "label_encoder = LabelEncoder()\n",
        "\n",
        "label_encoder.fit(notes)\n",
        "\n",
        "df['Encoded_Note'] = label_encoder.transform(notes)\n",
        "\n",
        "X = df[x_columns]\n",
        "y = df['Encoded_Note']\n",
        "\n",
        "X_train, X_test, y_train, y_test = train_test_split(X, y, test_size=0.2)\n",
        "\n",
        "#y_train_numeric = label_encoder.fit_transform(y_train)\n",
        "#y_test_numeric = label_encoder.fit_transform(y_test)\n",
        "\n",
        "#y_train_one_hot = to_categorical(y_train_numeric, num_classes=37)"
      ],
      "metadata": {
        "id": "lEkGA9tb4fIv"
      },
      "execution_count": 96,
      "outputs": []
    },
    {
      "cell_type": "code",
      "source": [
        "X_train.head()"
      ],
      "metadata": {
        "id": "KvWO-ETYHVPn",
        "colab": {
          "base_uri": "https://localhost:8080/",
          "height": 206
        },
        "outputId": "ef7b3ea1-78a1-4052-bfb2-dd3eef66880c"
      },
      "execution_count": 97,
      "outputs": [
        {
          "output_type": "execute_result",
          "data": {
            "text/plain": [
              "      chroma_stft  spectral_centroid  spectral_bandwidth  spectral_rolloff  \\\n",
              "725      0.351038         585.169761         1527.327333        807.495117   \n",
              "892      0.486339         448.798359         1413.824410        744.767960   \n",
              "1225     0.549486         954.273476         1593.178656       1897.262441   \n",
              "376      0.255876         913.123287         1941.985286       1313.057278   \n",
              "1479     0.460173         668.133008         1779.425402       1173.559570   \n",
              "\n",
              "      spectral_contrast       mfcc  zero_crossing_rate       rms   tonnetz  \n",
              "725           21.517338 -10.584658            0.008418  0.060545 -0.171966  \n",
              "892           17.894056  -2.661055            0.005658  0.100404  0.002941  \n",
              "1225          18.596631  -3.991036            0.008630  0.081227  0.139766  \n",
              "376           21.139120 -11.602310            0.014447  0.085229 -0.060925  \n",
              "1479          21.363525 -10.583671            0.005785  0.068602  0.098378  "
            ],
            "text/html": [
              "\n",
              "  <div id=\"df-c33cb0ad-7391-4c68-8e74-9bd03fe6607f\" class=\"colab-df-container\">\n",
              "    <div>\n",
              "<style scoped>\n",
              "    .dataframe tbody tr th:only-of-type {\n",
              "        vertical-align: middle;\n",
              "    }\n",
              "\n",
              "    .dataframe tbody tr th {\n",
              "        vertical-align: top;\n",
              "    }\n",
              "\n",
              "    .dataframe thead th {\n",
              "        text-align: right;\n",
              "    }\n",
              "</style>\n",
              "<table border=\"1\" class=\"dataframe\">\n",
              "  <thead>\n",
              "    <tr style=\"text-align: right;\">\n",
              "      <th></th>\n",
              "      <th>chroma_stft</th>\n",
              "      <th>spectral_centroid</th>\n",
              "      <th>spectral_bandwidth</th>\n",
              "      <th>spectral_rolloff</th>\n",
              "      <th>spectral_contrast</th>\n",
              "      <th>mfcc</th>\n",
              "      <th>zero_crossing_rate</th>\n",
              "      <th>rms</th>\n",
              "      <th>tonnetz</th>\n",
              "    </tr>\n",
              "  </thead>\n",
              "  <tbody>\n",
              "    <tr>\n",
              "      <th>725</th>\n",
              "      <td>0.351038</td>\n",
              "      <td>585.169761</td>\n",
              "      <td>1527.327333</td>\n",
              "      <td>807.495117</td>\n",
              "      <td>21.517338</td>\n",
              "      <td>-10.584658</td>\n",
              "      <td>0.008418</td>\n",
              "      <td>0.060545</td>\n",
              "      <td>-0.171966</td>\n",
              "    </tr>\n",
              "    <tr>\n",
              "      <th>892</th>\n",
              "      <td>0.486339</td>\n",
              "      <td>448.798359</td>\n",
              "      <td>1413.824410</td>\n",
              "      <td>744.767960</td>\n",
              "      <td>17.894056</td>\n",
              "      <td>-2.661055</td>\n",
              "      <td>0.005658</td>\n",
              "      <td>0.100404</td>\n",
              "      <td>0.002941</td>\n",
              "    </tr>\n",
              "    <tr>\n",
              "      <th>1225</th>\n",
              "      <td>0.549486</td>\n",
              "      <td>954.273476</td>\n",
              "      <td>1593.178656</td>\n",
              "      <td>1897.262441</td>\n",
              "      <td>18.596631</td>\n",
              "      <td>-3.991036</td>\n",
              "      <td>0.008630</td>\n",
              "      <td>0.081227</td>\n",
              "      <td>0.139766</td>\n",
              "    </tr>\n",
              "    <tr>\n",
              "      <th>376</th>\n",
              "      <td>0.255876</td>\n",
              "      <td>913.123287</td>\n",
              "      <td>1941.985286</td>\n",
              "      <td>1313.057278</td>\n",
              "      <td>21.139120</td>\n",
              "      <td>-11.602310</td>\n",
              "      <td>0.014447</td>\n",
              "      <td>0.085229</td>\n",
              "      <td>-0.060925</td>\n",
              "    </tr>\n",
              "    <tr>\n",
              "      <th>1479</th>\n",
              "      <td>0.460173</td>\n",
              "      <td>668.133008</td>\n",
              "      <td>1779.425402</td>\n",
              "      <td>1173.559570</td>\n",
              "      <td>21.363525</td>\n",
              "      <td>-10.583671</td>\n",
              "      <td>0.005785</td>\n",
              "      <td>0.068602</td>\n",
              "      <td>0.098378</td>\n",
              "    </tr>\n",
              "  </tbody>\n",
              "</table>\n",
              "</div>\n",
              "    <div class=\"colab-df-buttons\">\n",
              "\n",
              "  <div class=\"colab-df-container\">\n",
              "    <button class=\"colab-df-convert\" onclick=\"convertToInteractive('df-c33cb0ad-7391-4c68-8e74-9bd03fe6607f')\"\n",
              "            title=\"Convert this dataframe to an interactive table.\"\n",
              "            style=\"display:none;\">\n",
              "\n",
              "  <svg xmlns=\"http://www.w3.org/2000/svg\" height=\"24px\" viewBox=\"0 -960 960 960\">\n",
              "    <path d=\"M120-120v-720h720v720H120Zm60-500h600v-160H180v160Zm220 220h160v-160H400v160Zm0 220h160v-160H400v160ZM180-400h160v-160H180v160Zm440 0h160v-160H620v160ZM180-180h160v-160H180v160Zm440 0h160v-160H620v160Z\"/>\n",
              "  </svg>\n",
              "    </button>\n",
              "\n",
              "  <style>\n",
              "    .colab-df-container {\n",
              "      display:flex;\n",
              "      gap: 12px;\n",
              "    }\n",
              "\n",
              "    .colab-df-convert {\n",
              "      background-color: #E8F0FE;\n",
              "      border: none;\n",
              "      border-radius: 50%;\n",
              "      cursor: pointer;\n",
              "      display: none;\n",
              "      fill: #1967D2;\n",
              "      height: 32px;\n",
              "      padding: 0 0 0 0;\n",
              "      width: 32px;\n",
              "    }\n",
              "\n",
              "    .colab-df-convert:hover {\n",
              "      background-color: #E2EBFA;\n",
              "      box-shadow: 0px 1px 2px rgba(60, 64, 67, 0.3), 0px 1px 3px 1px rgba(60, 64, 67, 0.15);\n",
              "      fill: #174EA6;\n",
              "    }\n",
              "\n",
              "    .colab-df-buttons div {\n",
              "      margin-bottom: 4px;\n",
              "    }\n",
              "\n",
              "    [theme=dark] .colab-df-convert {\n",
              "      background-color: #3B4455;\n",
              "      fill: #D2E3FC;\n",
              "    }\n",
              "\n",
              "    [theme=dark] .colab-df-convert:hover {\n",
              "      background-color: #434B5C;\n",
              "      box-shadow: 0px 1px 3px 1px rgba(0, 0, 0, 0.15);\n",
              "      filter: drop-shadow(0px 1px 2px rgba(0, 0, 0, 0.3));\n",
              "      fill: #FFFFFF;\n",
              "    }\n",
              "  </style>\n",
              "\n",
              "    <script>\n",
              "      const buttonEl =\n",
              "        document.querySelector('#df-c33cb0ad-7391-4c68-8e74-9bd03fe6607f button.colab-df-convert');\n",
              "      buttonEl.style.display =\n",
              "        google.colab.kernel.accessAllowed ? 'block' : 'none';\n",
              "\n",
              "      async function convertToInteractive(key) {\n",
              "        const element = document.querySelector('#df-c33cb0ad-7391-4c68-8e74-9bd03fe6607f');\n",
              "        const dataTable =\n",
              "          await google.colab.kernel.invokeFunction('convertToInteractive',\n",
              "                                                    [key], {});\n",
              "        if (!dataTable) return;\n",
              "\n",
              "        const docLinkHtml = 'Like what you see? Visit the ' +\n",
              "          '<a target=\"_blank\" href=https://colab.research.google.com/notebooks/data_table.ipynb>data table notebook</a>'\n",
              "          + ' to learn more about interactive tables.';\n",
              "        element.innerHTML = '';\n",
              "        dataTable['output_type'] = 'display_data';\n",
              "        await google.colab.output.renderOutput(dataTable, element);\n",
              "        const docLink = document.createElement('div');\n",
              "        docLink.innerHTML = docLinkHtml;\n",
              "        element.appendChild(docLink);\n",
              "      }\n",
              "    </script>\n",
              "  </div>\n",
              "\n",
              "\n",
              "<div id=\"df-79796c39-a353-48a9-ad64-fffd6e43251a\">\n",
              "  <button class=\"colab-df-quickchart\" onclick=\"quickchart('df-79796c39-a353-48a9-ad64-fffd6e43251a')\"\n",
              "            title=\"Suggest charts\"\n",
              "            style=\"display:none;\">\n",
              "\n",
              "<svg xmlns=\"http://www.w3.org/2000/svg\" height=\"24px\"viewBox=\"0 0 24 24\"\n",
              "     width=\"24px\">\n",
              "    <g>\n",
              "        <path d=\"M19 3H5c-1.1 0-2 .9-2 2v14c0 1.1.9 2 2 2h14c1.1 0 2-.9 2-2V5c0-1.1-.9-2-2-2zM9 17H7v-7h2v7zm4 0h-2V7h2v10zm4 0h-2v-4h2v4z\"/>\n",
              "    </g>\n",
              "</svg>\n",
              "  </button>\n",
              "\n",
              "<style>\n",
              "  .colab-df-quickchart {\n",
              "      --bg-color: #E8F0FE;\n",
              "      --fill-color: #1967D2;\n",
              "      --hover-bg-color: #E2EBFA;\n",
              "      --hover-fill-color: #174EA6;\n",
              "      --disabled-fill-color: #AAA;\n",
              "      --disabled-bg-color: #DDD;\n",
              "  }\n",
              "\n",
              "  [theme=dark] .colab-df-quickchart {\n",
              "      --bg-color: #3B4455;\n",
              "      --fill-color: #D2E3FC;\n",
              "      --hover-bg-color: #434B5C;\n",
              "      --hover-fill-color: #FFFFFF;\n",
              "      --disabled-bg-color: #3B4455;\n",
              "      --disabled-fill-color: #666;\n",
              "  }\n",
              "\n",
              "  .colab-df-quickchart {\n",
              "    background-color: var(--bg-color);\n",
              "    border: none;\n",
              "    border-radius: 50%;\n",
              "    cursor: pointer;\n",
              "    display: none;\n",
              "    fill: var(--fill-color);\n",
              "    height: 32px;\n",
              "    padding: 0;\n",
              "    width: 32px;\n",
              "  }\n",
              "\n",
              "  .colab-df-quickchart:hover {\n",
              "    background-color: var(--hover-bg-color);\n",
              "    box-shadow: 0 1px 2px rgba(60, 64, 67, 0.3), 0 1px 3px 1px rgba(60, 64, 67, 0.15);\n",
              "    fill: var(--button-hover-fill-color);\n",
              "  }\n",
              "\n",
              "  .colab-df-quickchart-complete:disabled,\n",
              "  .colab-df-quickchart-complete:disabled:hover {\n",
              "    background-color: var(--disabled-bg-color);\n",
              "    fill: var(--disabled-fill-color);\n",
              "    box-shadow: none;\n",
              "  }\n",
              "\n",
              "  .colab-df-spinner {\n",
              "    border: 2px solid var(--fill-color);\n",
              "    border-color: transparent;\n",
              "    border-bottom-color: var(--fill-color);\n",
              "    animation:\n",
              "      spin 1s steps(1) infinite;\n",
              "  }\n",
              "\n",
              "  @keyframes spin {\n",
              "    0% {\n",
              "      border-color: transparent;\n",
              "      border-bottom-color: var(--fill-color);\n",
              "      border-left-color: var(--fill-color);\n",
              "    }\n",
              "    20% {\n",
              "      border-color: transparent;\n",
              "      border-left-color: var(--fill-color);\n",
              "      border-top-color: var(--fill-color);\n",
              "    }\n",
              "    30% {\n",
              "      border-color: transparent;\n",
              "      border-left-color: var(--fill-color);\n",
              "      border-top-color: var(--fill-color);\n",
              "      border-right-color: var(--fill-color);\n",
              "    }\n",
              "    40% {\n",
              "      border-color: transparent;\n",
              "      border-right-color: var(--fill-color);\n",
              "      border-top-color: var(--fill-color);\n",
              "    }\n",
              "    60% {\n",
              "      border-color: transparent;\n",
              "      border-right-color: var(--fill-color);\n",
              "    }\n",
              "    80% {\n",
              "      border-color: transparent;\n",
              "      border-right-color: var(--fill-color);\n",
              "      border-bottom-color: var(--fill-color);\n",
              "    }\n",
              "    90% {\n",
              "      border-color: transparent;\n",
              "      border-bottom-color: var(--fill-color);\n",
              "    }\n",
              "  }\n",
              "</style>\n",
              "\n",
              "  <script>\n",
              "    async function quickchart(key) {\n",
              "      const quickchartButtonEl =\n",
              "        document.querySelector('#' + key + ' button');\n",
              "      quickchartButtonEl.disabled = true;  // To prevent multiple clicks.\n",
              "      quickchartButtonEl.classList.add('colab-df-spinner');\n",
              "      try {\n",
              "        const charts = await google.colab.kernel.invokeFunction(\n",
              "            'suggestCharts', [key], {});\n",
              "      } catch (error) {\n",
              "        console.error('Error during call to suggestCharts:', error);\n",
              "      }\n",
              "      quickchartButtonEl.classList.remove('colab-df-spinner');\n",
              "      quickchartButtonEl.classList.add('colab-df-quickchart-complete');\n",
              "    }\n",
              "    (() => {\n",
              "      let quickchartButtonEl =\n",
              "        document.querySelector('#df-79796c39-a353-48a9-ad64-fffd6e43251a button');\n",
              "      quickchartButtonEl.style.display =\n",
              "        google.colab.kernel.accessAllowed ? 'block' : 'none';\n",
              "    })();\n",
              "  </script>\n",
              "</div>\n",
              "    </div>\n",
              "  </div>\n"
            ]
          },
          "metadata": {},
          "execution_count": 97
        }
      ]
    },
    {
      "cell_type": "code",
      "source": [
        "y_train.head()"
      ],
      "metadata": {
        "colab": {
          "base_uri": "https://localhost:8080/"
        },
        "id": "8YZrdoro6CIy",
        "outputId": "81d5491c-dc01-487d-b694-cc3f7dd71457"
      },
      "execution_count": 98,
      "outputs": [
        {
          "output_type": "execute_result",
          "data": {
            "text/plain": [
              "725      1\n",
              "892     35\n",
              "1225    31\n",
              "376      8\n",
              "1479    36\n",
              "Name: Encoded_Note, dtype: int64"
            ]
          },
          "metadata": {},
          "execution_count": 98
        }
      ]
    },
    {
      "cell_type": "markdown",
      "source": [
        "## **Sequential Model Testing:**\n",
        "In this section the model will be created, for the time being a sequential model is being used. The layers will need to be manipulated until a higher accuracy score is achieved (the goal is above 75%).\n"
      ],
      "metadata": {
        "id": "JJ3CTsw4hclG"
      }
    },
    {
      "cell_type": "code",
      "source": [
        "from tensorflow.keras.models import Sequential, load_model\n",
        "from tensorflow.keras.layers import Dense\n",
        "from sklearn.metrics import accuracy_score"
      ],
      "metadata": {
        "id": "Jq5iXDqN5CFn"
      },
      "execution_count": 17,
      "outputs": []
    },
    {
      "cell_type": "code",
      "source": [
        "model = Sequential()\n",
        "model.add(Dense(units=64, activation='relu', input_dim=len(X_train.columns)))\n",
        "model.add(Dense(units=128, activation='relu'))\n",
        "model.add(Dense(units=256, activation='relu'))\n",
        "model.add(Dense(units=128, activation='relu'))\n",
        "model.add(Dense(units=64, activation='relu'))\n",
        "model.add(Dense(units=37, activation='softmax'))"
      ],
      "metadata": {
        "id": "b9iavLVC5Mwl"
      },
      "execution_count": 18,
      "outputs": []
    },
    {
      "cell_type": "code",
      "source": [
        "from keras.optimizers import Adam\n",
        "optimizer = Adam(learning_rate=0.001)\n",
        "model.compile(optimizer=optimizer, loss='categorical_crossentropy', metrics=['accuracy'])"
      ],
      "metadata": {
        "id": "58yfGLCt5W41"
      },
      "execution_count": 19,
      "outputs": []
    },
    {
      "cell_type": "code",
      "source": [
        "model.fit(X_train, y_train_one_hot, epochs=50, batch_size=10)"
      ],
      "metadata": {
        "id": "ZWqHxnyy5ZQX",
        "colab": {
          "base_uri": "https://localhost:8080/"
        },
        "outputId": "8a4b92eb-6024-4b6d-ac7c-790561f06c60"
      },
      "execution_count": 21,
      "outputs": [
        {
          "output_type": "stream",
          "name": "stdout",
          "text": [
            "Epoch 1/50\n",
            "182/182 [==============================] - 1s 6ms/step - loss: 3.6345 - accuracy: 0.0281\n",
            "Epoch 2/50\n",
            "182/182 [==============================] - 1s 6ms/step - loss: 3.6826 - accuracy: 0.0264\n",
            "Epoch 3/50\n",
            "182/182 [==============================] - 1s 5ms/step - loss: 3.6186 - accuracy: 0.0270\n",
            "Epoch 4/50\n",
            "182/182 [==============================] - 1s 5ms/step - loss: 3.6109 - accuracy: 0.0264\n",
            "Epoch 5/50\n",
            "182/182 [==============================] - 1s 4ms/step - loss: 3.6107 - accuracy: 0.0275\n",
            "Epoch 6/50\n",
            "182/182 [==============================] - 1s 3ms/step - loss: 3.6106 - accuracy: 0.0303\n",
            "Epoch 7/50\n",
            "182/182 [==============================] - 1s 4ms/step - loss: 3.6104 - accuracy: 0.0303\n",
            "Epoch 8/50\n",
            "182/182 [==============================] - 1s 4ms/step - loss: 3.6103 - accuracy: 0.0303\n",
            "Epoch 9/50\n",
            "182/182 [==============================] - 1s 3ms/step - loss: 3.6102 - accuracy: 0.0303\n",
            "Epoch 10/50\n",
            "182/182 [==============================] - 1s 3ms/step - loss: 3.6102 - accuracy: 0.0303\n",
            "Epoch 11/50\n",
            "182/182 [==============================] - 1s 4ms/step - loss: 3.6101 - accuracy: 0.0303\n",
            "Epoch 12/50\n",
            "182/182 [==============================] - 1s 4ms/step - loss: 3.6101 - accuracy: 0.0303\n",
            "Epoch 13/50\n",
            "182/182 [==============================] - 1s 3ms/step - loss: 3.6100 - accuracy: 0.0303\n",
            "Epoch 14/50\n",
            "182/182 [==============================] - 1s 3ms/step - loss: 3.6099 - accuracy: 0.0303\n",
            "Epoch 15/50\n",
            "182/182 [==============================] - 1s 3ms/step - loss: 3.6099 - accuracy: 0.0264\n",
            "Epoch 16/50\n",
            "182/182 [==============================] - 1s 3ms/step - loss: 3.6099 - accuracy: 0.0303\n",
            "Epoch 17/50\n",
            "182/182 [==============================] - 1s 4ms/step - loss: 3.6099 - accuracy: 0.0303\n",
            "Epoch 18/50\n",
            "182/182 [==============================] - 1s 4ms/step - loss: 3.6098 - accuracy: 0.0303\n",
            "Epoch 19/50\n",
            "182/182 [==============================] - 1s 3ms/step - loss: 3.6099 - accuracy: 0.0303\n",
            "Epoch 20/50\n",
            "182/182 [==============================] - 1s 3ms/step - loss: 3.6098 - accuracy: 0.0303\n",
            "Epoch 21/50\n",
            "182/182 [==============================] - 1s 5ms/step - loss: 3.6098 - accuracy: 0.0303\n",
            "Epoch 22/50\n",
            "182/182 [==============================] - 1s 5ms/step - loss: 3.6098 - accuracy: 0.0303\n",
            "Epoch 23/50\n",
            "182/182 [==============================] - 1s 6ms/step - loss: 3.6098 - accuracy: 0.0303\n",
            "Epoch 24/50\n",
            "182/182 [==============================] - 1s 4ms/step - loss: 3.6098 - accuracy: 0.0275\n",
            "Epoch 25/50\n",
            "182/182 [==============================] - 1s 3ms/step - loss: 3.6097 - accuracy: 0.0303\n",
            "Epoch 26/50\n",
            "182/182 [==============================] - 1s 3ms/step - loss: 3.6098 - accuracy: 0.0303\n",
            "Epoch 27/50\n",
            "182/182 [==============================] - 1s 3ms/step - loss: 3.6098 - accuracy: 0.0303\n",
            "Epoch 28/50\n",
            "182/182 [==============================] - 1s 3ms/step - loss: 3.6098 - accuracy: 0.0303\n",
            "Epoch 29/50\n",
            "182/182 [==============================] - 1s 3ms/step - loss: 3.6098 - accuracy: 0.0303\n",
            "Epoch 30/50\n",
            "182/182 [==============================] - 1s 3ms/step - loss: 3.6098 - accuracy: 0.0303\n",
            "Epoch 31/50\n",
            "182/182 [==============================] - 1s 3ms/step - loss: 3.6098 - accuracy: 0.0303\n",
            "Epoch 32/50\n",
            "182/182 [==============================] - 1s 4ms/step - loss: 3.6098 - accuracy: 0.0303\n",
            "Epoch 33/50\n",
            "182/182 [==============================] - 1s 4ms/step - loss: 3.6098 - accuracy: 0.0303\n",
            "Epoch 34/50\n",
            "182/182 [==============================] - 1s 4ms/step - loss: 3.6098 - accuracy: 0.0303\n",
            "Epoch 35/50\n",
            "182/182 [==============================] - 1s 3ms/step - loss: 3.6098 - accuracy: 0.0303\n",
            "Epoch 36/50\n",
            "182/182 [==============================] - 1s 3ms/step - loss: 3.6098 - accuracy: 0.0303\n",
            "Epoch 37/50\n",
            "182/182 [==============================] - 1s 4ms/step - loss: 3.6097 - accuracy: 0.0286\n",
            "Epoch 38/50\n",
            "182/182 [==============================] - 1s 3ms/step - loss: 3.6098 - accuracy: 0.0303\n",
            "Epoch 39/50\n",
            "182/182 [==============================] - 1s 4ms/step - loss: 3.6097 - accuracy: 0.0303\n",
            "Epoch 40/50\n",
            "182/182 [==============================] - 1s 5ms/step - loss: 3.6098 - accuracy: 0.0303\n",
            "Epoch 41/50\n",
            "182/182 [==============================] - 1s 5ms/step - loss: 3.6099 - accuracy: 0.0303\n",
            "Epoch 42/50\n",
            "182/182 [==============================] - 1s 4ms/step - loss: 3.6097 - accuracy: 0.0303\n",
            "Epoch 43/50\n",
            "182/182 [==============================] - 1s 3ms/step - loss: 3.6097 - accuracy: 0.0303\n",
            "Epoch 44/50\n",
            "182/182 [==============================] - 1s 3ms/step - loss: 3.6098 - accuracy: 0.0281\n",
            "Epoch 45/50\n",
            "182/182 [==============================] - 1s 3ms/step - loss: 3.6097 - accuracy: 0.0303\n",
            "Epoch 46/50\n",
            "182/182 [==============================] - 1s 3ms/step - loss: 3.6097 - accuracy: 0.0303\n",
            "Epoch 47/50\n",
            "182/182 [==============================] - 1s 4ms/step - loss: 3.6097 - accuracy: 0.0303\n",
            "Epoch 48/50\n",
            "182/182 [==============================] - 1s 3ms/step - loss: 3.6098 - accuracy: 0.0303\n",
            "Epoch 49/50\n",
            "182/182 [==============================] - 1s 4ms/step - loss: 3.6098 - accuracy: 0.0303\n",
            "Epoch 50/50\n",
            "182/182 [==============================] - 1s 4ms/step - loss: 3.6098 - accuracy: 0.0303\n"
          ]
        },
        {
          "output_type": "execute_result",
          "data": {
            "text/plain": [
              "<keras.src.callbacks.History at 0x7e76efcd3070>"
            ]
          },
          "metadata": {},
          "execution_count": 21
        }
      ]
    },
    {
      "cell_type": "code",
      "source": [
        "from tensorflow.keras.utils import to_categorical\n",
        "# Convert categorical test labels to one-hot encoding\n",
        "y_test_one_hot = to_categorical(label_encoder.transform(y_test), num_classes=37)\n",
        "\n",
        "# Evaluate the model on the test set\n",
        "loss, accuracy = model.evaluate(X_test, y_test_one_hot)\n",
        "\n",
        "print(f'Test Loss: {loss:.4f}')\n",
        "print(f'Test Accuracy: {accuracy:.4f}')"
      ],
      "metadata": {
        "id": "omkY1WQwjQKJ",
        "colab": {
          "base_uri": "https://localhost:8080/"
        },
        "outputId": "a9932c92-22d9-4a61-fa50-627981b85997"
      },
      "execution_count": 22,
      "outputs": [
        {
          "output_type": "stream",
          "name": "stdout",
          "text": [
            "15/15 [==============================] - 0s 2ms/step - loss: 3.6283 - accuracy: 0.0132\n",
            "Test Loss: 3.6283\n",
            "Test Accuracy: 0.0132\n"
          ]
        }
      ]
    },
    {
      "cell_type": "markdown",
      "source": [
        "## **Random Forest Classifier Testing:**\n",
        "In this section I was experimenting with a Random Forest Classifier to see if I could get any better results with this model versus the other one."
      ],
      "metadata": {
        "id": "6ew5KtgwwCTk"
      }
    },
    {
      "cell_type": "code",
      "source": [
        "from sklearn.ensemble import RandomForestClassifier\n",
        "from sklearn.metrics import accuracy_score\n",
        "from sklearn.preprocessing import LabelEncoder\n",
        "from sklearn.model_selection import train_test_split\n",
        "\n",
        "# Assuming X_train and y_train are your training data and labels\n",
        "# Assuming X_test and y_test are your test data and labels\n",
        "\n",
        "# Convert string labels to numeric\n",
        "# label_encoder = LabelEncoder()\n",
        "# y_train_encoded = label_encoder.fit_transform(y_train)\n",
        "# y_test_encoded = label_encoder.fit_transform(y_test)\n",
        "# y_train_encoded"
      ],
      "metadata": {
        "id": "WlJ-yY2JrpVh"
      },
      "execution_count": 99,
      "outputs": []
    },
    {
      "cell_type": "code",
      "source": [
        "# Initialize the Random Forest classifier\n",
        "rf_classifier = RandomForestClassifier(max_depth=20, min_samples_split=5, min_samples_leaf=18, max_features='log2', n_estimators=410, random_state=43)"
      ],
      "metadata": {
        "id": "aaEtbhJtrTBm"
      },
      "execution_count": 143,
      "outputs": []
    },
    {
      "cell_type": "code",
      "source": [
        "# Train the Random Forest classifier\n",
        "# rf_classifier.fit(X_train, y_train_encoded)\n",
        "rf_classifier.fit(X_train, y_train)"
      ],
      "metadata": {
        "colab": {
          "base_uri": "https://localhost:8080/",
          "height": 92
        },
        "id": "Fu2lGgZcr6WY",
        "outputId": "7d202038-1220-40d3-fd1f-93be8e2f793d"
      },
      "execution_count": 144,
      "outputs": [
        {
          "output_type": "execute_result",
          "data": {
            "text/plain": [
              "RandomForestClassifier(max_depth=20, max_features='log2', min_samples_leaf=18,\n",
              "                       min_samples_split=5, n_estimators=410, random_state=43)"
            ],
            "text/html": [
              "<style>#sk-container-id-25 {color: black;background-color: white;}#sk-container-id-25 pre{padding: 0;}#sk-container-id-25 div.sk-toggleable {background-color: white;}#sk-container-id-25 label.sk-toggleable__label {cursor: pointer;display: block;width: 100%;margin-bottom: 0;padding: 0.3em;box-sizing: border-box;text-align: center;}#sk-container-id-25 label.sk-toggleable__label-arrow:before {content: \"▸\";float: left;margin-right: 0.25em;color: #696969;}#sk-container-id-25 label.sk-toggleable__label-arrow:hover:before {color: black;}#sk-container-id-25 div.sk-estimator:hover label.sk-toggleable__label-arrow:before {color: black;}#sk-container-id-25 div.sk-toggleable__content {max-height: 0;max-width: 0;overflow: hidden;text-align: left;background-color: #f0f8ff;}#sk-container-id-25 div.sk-toggleable__content pre {margin: 0.2em;color: black;border-radius: 0.25em;background-color: #f0f8ff;}#sk-container-id-25 input.sk-toggleable__control:checked~div.sk-toggleable__content {max-height: 200px;max-width: 100%;overflow: auto;}#sk-container-id-25 input.sk-toggleable__control:checked~label.sk-toggleable__label-arrow:before {content: \"▾\";}#sk-container-id-25 div.sk-estimator input.sk-toggleable__control:checked~label.sk-toggleable__label {background-color: #d4ebff;}#sk-container-id-25 div.sk-label input.sk-toggleable__control:checked~label.sk-toggleable__label {background-color: #d4ebff;}#sk-container-id-25 input.sk-hidden--visually {border: 0;clip: rect(1px 1px 1px 1px);clip: rect(1px, 1px, 1px, 1px);height: 1px;margin: -1px;overflow: hidden;padding: 0;position: absolute;width: 1px;}#sk-container-id-25 div.sk-estimator {font-family: monospace;background-color: #f0f8ff;border: 1px dotted black;border-radius: 0.25em;box-sizing: border-box;margin-bottom: 0.5em;}#sk-container-id-25 div.sk-estimator:hover {background-color: #d4ebff;}#sk-container-id-25 div.sk-parallel-item::after {content: \"\";width: 100%;border-bottom: 1px solid gray;flex-grow: 1;}#sk-container-id-25 div.sk-label:hover label.sk-toggleable__label {background-color: #d4ebff;}#sk-container-id-25 div.sk-serial::before {content: \"\";position: absolute;border-left: 1px solid gray;box-sizing: border-box;top: 0;bottom: 0;left: 50%;z-index: 0;}#sk-container-id-25 div.sk-serial {display: flex;flex-direction: column;align-items: center;background-color: white;padding-right: 0.2em;padding-left: 0.2em;position: relative;}#sk-container-id-25 div.sk-item {position: relative;z-index: 1;}#sk-container-id-25 div.sk-parallel {display: flex;align-items: stretch;justify-content: center;background-color: white;position: relative;}#sk-container-id-25 div.sk-item::before, #sk-container-id-25 div.sk-parallel-item::before {content: \"\";position: absolute;border-left: 1px solid gray;box-sizing: border-box;top: 0;bottom: 0;left: 50%;z-index: -1;}#sk-container-id-25 div.sk-parallel-item {display: flex;flex-direction: column;z-index: 1;position: relative;background-color: white;}#sk-container-id-25 div.sk-parallel-item:first-child::after {align-self: flex-end;width: 50%;}#sk-container-id-25 div.sk-parallel-item:last-child::after {align-self: flex-start;width: 50%;}#sk-container-id-25 div.sk-parallel-item:only-child::after {width: 0;}#sk-container-id-25 div.sk-dashed-wrapped {border: 1px dashed gray;margin: 0 0.4em 0.5em 0.4em;box-sizing: border-box;padding-bottom: 0.4em;background-color: white;}#sk-container-id-25 div.sk-label label {font-family: monospace;font-weight: bold;display: inline-block;line-height: 1.2em;}#sk-container-id-25 div.sk-label-container {text-align: center;}#sk-container-id-25 div.sk-container {/* jupyter's `normalize.less` sets `[hidden] { display: none; }` but bootstrap.min.css set `[hidden] { display: none !important; }` so we also need the `!important` here to be able to override the default hidden behavior on the sphinx rendered scikit-learn.org. See: https://github.com/scikit-learn/scikit-learn/issues/21755 */display: inline-block !important;position: relative;}#sk-container-id-25 div.sk-text-repr-fallback {display: none;}</style><div id=\"sk-container-id-25\" class=\"sk-top-container\"><div class=\"sk-text-repr-fallback\"><pre>RandomForestClassifier(max_depth=20, max_features=&#x27;log2&#x27;, min_samples_leaf=18,\n",
              "                       min_samples_split=5, n_estimators=410, random_state=43)</pre><b>In a Jupyter environment, please rerun this cell to show the HTML representation or trust the notebook. <br />On GitHub, the HTML representation is unable to render, please try loading this page with nbviewer.org.</b></div><div class=\"sk-container\" hidden><div class=\"sk-item\"><div class=\"sk-estimator sk-toggleable\"><input class=\"sk-toggleable__control sk-hidden--visually\" id=\"sk-estimator-id-25\" type=\"checkbox\" checked><label for=\"sk-estimator-id-25\" class=\"sk-toggleable__label sk-toggleable__label-arrow\">RandomForestClassifier</label><div class=\"sk-toggleable__content\"><pre>RandomForestClassifier(max_depth=20, max_features=&#x27;log2&#x27;, min_samples_leaf=18,\n",
              "                       min_samples_split=5, n_estimators=410, random_state=43)</pre></div></div></div></div></div>"
            ]
          },
          "metadata": {},
          "execution_count": 144
        }
      ]
    },
    {
      "cell_type": "code",
      "source": [
        "# Make predictions on the test set\n",
        "y_pred = rf_classifier.predict(X_test)"
      ],
      "metadata": {
        "id": "5w9di-a7tDBU"
      },
      "execution_count": 145,
      "outputs": []
    },
    {
      "cell_type": "code",
      "source": [
        "# Convert predictions back to original labels\n",
        "#y_pred_original = label_encoder.inverse_transform(y_pred)\n",
        "\n",
        "# Evaluate accuracy\n",
        "accuracy = accuracy_score(y_test, y_pred)\n",
        "print(f\"Accuracy: {accuracy}\")"
      ],
      "metadata": {
        "colab": {
          "base_uri": "https://localhost:8080/"
        },
        "id": "jrgw4rDrrx3K",
        "outputId": "5ddf75c2-484b-41fd-d5f5-0ea87852fe58"
      },
      "execution_count": 146,
      "outputs": [
        {
          "output_type": "stream",
          "name": "stdout",
          "text": [
            "Accuracy: 0.7180616740088106\n"
          ]
        }
      ]
    }
  ]
}