{
  "nbformat": 4,
  "nbformat_minor": 0,
  "metadata": {
    "colab": {
      "provenance": [],
      "include_colab_link": true
    },
    "kernelspec": {
      "name": "python3",
      "display_name": "Python 3"
    },
    "language_info": {
      "name": "python"
    }
  },
  "cells": [
    {
      "cell_type": "markdown",
      "metadata": {
        "id": "view-in-github",
        "colab_type": "text"
      },
      "source": [
        "<a href=\"https://colab.research.google.com/github/jachiaram/GuitarML/blob/main/GuitarML.ipynb\" target=\"_parent\"><img src=\"https://colab.research.google.com/assets/colab-badge.svg\" alt=\"Open In Colab\"/></a>"
      ]
    },
    {
      "cell_type": "markdown",
      "source": [
        "# **Guitar Machine Learning Note Classifier Model V1**"
      ],
      "metadata": {
        "id": "D2lC5__9kCSZ"
      }
    },
    {
      "cell_type": "markdown",
      "source": [
        "## **Install Dependencies**"
      ],
      "metadata": {
        "id": "LR8qrD0KDYMM"
      }
    },
    {
      "cell_type": "code",
      "execution_count": null,
      "metadata": {
        "id": "moUsGfiM5iAH"
      },
      "outputs": [],
      "source": [
        "!pip install tensorflow==2.8.0 tensorflow-gpu==2.8.0 tensorflow-io matplotlib"
      ]
    },
    {
      "cell_type": "markdown",
      "source": [
        "## **Import dependencies**"
      ],
      "metadata": {
        "id": "8JCzXRddDeE4"
      }
    },
    {
      "cell_type": "code",
      "source": [
        "import os\n",
        "from matplotlib import pyplot as plt\n",
        "import tensorflow as tf\n",
        "import pandas as pd\n",
        "import numpy as np\n",
        "from sklearn.model_selection import train_test_split"
      ],
      "metadata": {
        "id": "i8yY8yvJDSzx"
      },
      "execution_count": null,
      "outputs": []
    },
    {
      "cell_type": "code",
      "source": [
        "df = pd.read_csv('https://raw.githubusercontent.com/jachiaram/GuitarML/main/Guitar_features.csv')\n",
        "print(df.columns)"
      ],
      "metadata": {
        "id": "ySfIHToMDhu3",
        "colab": {
          "base_uri": "https://localhost:8080/"
        },
        "outputId": "3c06f82e-69b5-4144-a987-e4f4a84d126a"
      },
      "execution_count": null,
      "outputs": [
        {
          "output_type": "stream",
          "name": "stdout",
          "text": [
            "Index(['note_names', 'chroma_stft', 'spectral_centroid', 'spectral_bandwidth',\n",
            "       'spectral_rolloff'],\n",
            "      dtype='object')\n"
          ]
        }
      ]
    },
    {
      "cell_type": "code",
      "source": [
        "y_column = 'note_names'\n",
        "x_columns = ['chroma_stft', 'spectral_centroid', 'spectral_bandwidth', 'spectral_rolloff']\n",
        "\n",
        "# Extract X and y\n",
        "X = df[x_columns]\n",
        "y = df[y_column]"
      ],
      "metadata": {
        "id": "lEkGA9tb4fIv"
      },
      "execution_count": null,
      "outputs": []
    },
    {
      "cell_type": "code",
      "source": [
        "X_train, X_test, y_train, y_test = train_test_split(X, y, test_size=0.2)\n",
        "X_train.head()"
      ],
      "metadata": {
        "id": "KvWO-ETYHVPn",
        "colab": {
          "base_uri": "https://localhost:8080/"
        },
        "outputId": "54facf21-c622-443f-de3e-9746be142c12"
      },
      "execution_count": 34,
      "outputs": [
        {
          "output_type": "execute_result",
          "data": {
            "text/plain": [
              "396     17. G-sharp 1\n",
              "927     15. F-sharp 1\n",
              "75      34. C-sharp 2\n",
              "1154           16. G1\n",
              "1654    29. G-sharp 2\n",
              "Name: note_names, dtype: object"
            ]
          },
          "metadata": {},
          "execution_count": 34
        }
      ]
    },
    {
      "cell_type": "code",
      "source": [
        "y_train.head"
      ],
      "metadata": {
        "colab": {
          "base_uri": "https://localhost:8080/"
        },
        "id": "8YZrdoro6CIy",
        "outputId": "60728275-3682-4f0e-ae89-b8ce4688b8ee"
      },
      "execution_count": 38,
      "outputs": [
        {
          "output_type": "execute_result",
          "data": {
            "text/plain": [
              "<bound method NDFrame.head of 396     17. G-sharp 1\n",
              "927     15. F-sharp 1\n",
              "75      34. C-sharp 2\n",
              "1154           16. G1\n",
              "1654    29. G-sharp 2\n",
              "            ...      \n",
              "2118           30. A2\n",
              "1824             1. E\n",
              "1186           25. E2\n",
              "2211       3. F-sharp\n",
              "1286       7. A-sharp\n",
              "Name: note_names, Length: 1816, dtype: object>"
            ]
          },
          "metadata": {},
          "execution_count": 38
        }
      ]
    },
    {
      "cell_type": "code",
      "source": [
        "from tensorflow.keras.utils import to_categorical\n",
        "from sklearn.preprocessing import LabelEncoder\n",
        "\n",
        "label_encoder = LabelEncoder()\n",
        "y_train_numeric = label_encoder.fit_transform(y_train)\n",
        "\n",
        "y_train_one_hot = to_categorical(y_train_numeric, num_classes=37)"
      ],
      "metadata": {
        "id": "-MFkN361ihpg"
      },
      "execution_count": 39,
      "outputs": []
    },
    {
      "cell_type": "markdown",
      "source": [
        "## **Creating, Compiling, and Training the Model:**\n",
        "In this section the model is created, compiled, and then trained.\n"
      ],
      "metadata": {
        "id": "JJ3CTsw4hclG"
      }
    },
    {
      "cell_type": "code",
      "source": [
        "from tensorflow.keras.models import Sequential, load_model\n",
        "from tensorflow.keras.layers import Dense\n",
        "from sklearn.metrics import accuracy_score"
      ],
      "metadata": {
        "id": "Jq5iXDqN5CFn"
      },
      "execution_count": 26,
      "outputs": []
    },
    {
      "cell_type": "code",
      "source": [
        "model = Sequential()\n",
        "model.add(Dense(units=32, activation='relu', input_dim=len(X_train.columns)))\n",
        "model.add(Dense(units=64, activation='relu'))\n",
        "model.add(Dense(units=37, activation='softmax'))"
      ],
      "metadata": {
        "id": "b9iavLVC5Mwl"
      },
      "execution_count": 27,
      "outputs": []
    },
    {
      "cell_type": "code",
      "source": [
        "model.compile(optimizer='adam', loss='categorical_crossentropy', metrics=['accuracy'])\n"
      ],
      "metadata": {
        "id": "58yfGLCt5W41"
      },
      "execution_count": 28,
      "outputs": []
    },
    {
      "cell_type": "code",
      "source": [
        "model.fit(X_train, y_train_one_hot, epochs=50, batch_size=32)"
      ],
      "metadata": {
        "id": "ZWqHxnyy5ZQX"
      },
      "execution_count": null,
      "outputs": []
    },
    {
      "cell_type": "code",
      "source": [
        "from tensorflow.keras.utils import to_categorical\n",
        "# Convert categorical test labels to one-hot encoding\n",
        "y_test_one_hot = to_categorical(label_encoder.transform(y_test), num_classes=37)\n",
        "\n",
        "# Evaluate the model on the test set\n",
        "loss, accuracy = model.evaluate(X_test, y_test_one_hot)\n",
        "\n",
        "print(f'Test Loss: {loss:.4f}')\n",
        "print(f'Test Accuracy: {accuracy:.4f}')"
      ],
      "metadata": {
        "id": "omkY1WQwjQKJ"
      },
      "execution_count": null,
      "outputs": []
    }
  ]
}