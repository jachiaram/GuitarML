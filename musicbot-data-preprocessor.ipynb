{
 "cells": [
  {
   "cell_type": "markdown",
   "id": "1d7d1d13",
   "metadata": {
    "papermill": {
     "duration": 0.004874,
     "end_time": "2024-02-05T05:32:56.432509",
     "exception": false,
     "start_time": "2024-02-05T05:32:56.427635",
     "status": "completed"
    },
    "tags": []
   },
   "source": [
    "# Music Note Classifier\n",
    "### The goal of this program is to create a useful segment of code to convert mp3 files into usable data for a machine learning model."
   ]
  },
  {
   "cell_type": "markdown",
   "id": "a4a51164",
   "metadata": {
    "papermill": {
     "duration": 0.004271,
     "end_time": "2024-02-05T05:32:56.441637",
     "exception": false,
     "start_time": "2024-02-05T05:32:56.437366",
     "status": "completed"
    },
    "tags": []
   },
   "source": [
    "## Import dependencies:\n",
    "\n",
    "The four imports used to achieve this functionality are numpy, pandas, os, and librosa. Librosa used in conjunction with numpy allows for easy spectogram generation and feature extraction. The os and csv are used for I/O and saving the features extracted to a csv file to push to the machine learning model."
   ]
  },
  {
   "cell_type": "code",
   "execution_count": 1,
   "id": "74979c13",
   "metadata": {
    "_cell_guid": "b1076dfc-b9ad-4769-8c92-a6c4dae69d19",
    "_uuid": "8f2839f25d086af736a60e9eeb907d3b93b6e0e5",
    "execution": {
     "iopub.execute_input": "2024-02-05T05:32:56.454583Z",
     "iopub.status.busy": "2024-02-05T05:32:56.453727Z",
     "iopub.status.idle": "2024-02-05T05:32:57.488140Z",
     "shell.execute_reply": "2024-02-05T05:32:57.486934Z"
    },
    "papermill": {
     "duration": 1.044807,
     "end_time": "2024-02-05T05:32:57.491023",
     "exception": false,
     "start_time": "2024-02-05T05:32:56.446216",
     "status": "completed"
    },
    "tags": []
   },
   "outputs": [],
   "source": [
    "import numpy as np\n",
    "import pandas as pd\n",
    "import os\n",
    "import librosa\n",
    "from librosa import feature\n",
    "import csv"
   ]
  },
  {
   "cell_type": "markdown",
   "id": "95c3db56",
   "metadata": {
    "papermill": {
     "duration": 0.004832,
     "end_time": "2024-02-05T05:32:57.500741",
     "exception": false,
     "start_time": "2024-02-05T05:32:57.495909",
     "status": "completed"
    },
    "tags": []
   },
   "source": [
    "## Feature Extraction and Spectrogram Functions:\n",
    "In this section two functions are defined: load_spec and extract features. The load spec function loads the spectogram, trims it, and returns the mean of it. The extract_features takes in the spectogram and calls a list of feature extraction functions, takes the mean of them, and stores them into an array."
   ]
  },
  {
   "cell_type": "code",
   "execution_count": 2,
   "id": "81ba305f",
   "metadata": {
    "execution": {
     "iopub.execute_input": "2024-02-05T05:32:57.512578Z",
     "iopub.status.busy": "2024-02-05T05:32:57.511973Z",
     "iopub.status.idle": "2024-02-05T05:32:57.521380Z",
     "shell.execute_reply": "2024-02-05T05:32:57.520170Z"
    },
    "papermill": {
     "duration": 0.018248,
     "end_time": "2024-02-05T05:32:57.524119",
     "exception": false,
     "start_time": "2024-02-05T05:32:57.505871",
     "status": "completed"
    },
    "tags": []
   },
   "outputs": [],
   "source": [
    "def trim(y, target_length):\n",
    "    current_length = y.shape[0]\n",
    "    frames_to_keep = min(current_length, target_length)\n",
    "    \n",
    "    if current_length > target_length:\n",
    "        trimmed_spec = y[:frames_to_keep]\n",
    "    else:\n",
    "        pad_width = target_length - current_length\n",
    "        trimmed_spec = np.pad(y, (0, pad_width), mode='constant', constant_values=0)\n",
    "        \n",
    "    return trimmed_spec"
   ]
  },
  {
   "cell_type": "code",
   "execution_count": 3,
   "id": "3a8a3468",
   "metadata": {
    "execution": {
     "iopub.execute_input": "2024-02-05T05:32:57.536005Z",
     "iopub.status.busy": "2024-02-05T05:32:57.535063Z",
     "iopub.status.idle": "2024-02-05T05:32:57.545912Z",
     "shell.execute_reply": "2024-02-05T05:32:57.544039Z"
    },
    "papermill": {
     "duration": 0.020452,
     "end_time": "2024-02-05T05:32:57.549296",
     "exception": false,
     "start_time": "2024-02-05T05:32:57.528844",
     "status": "completed"
    },
    "tags": []
   },
   "outputs": [],
   "source": [
    "def extract_features(y,sr):\n",
    "    \n",
    "    #Using the mean length of the lengths found below the spectrograms are all trimmed to a length 23160\n",
    "    y = trim(y, target_length=23160)\n",
    "\n",
    "    chroma = np.mean(feature.chroma_stft(y=y, sr=sr))\n",
    "    centr = np.mean(feature.spectral_centroid(y=y, sr=sr))\n",
    "    band = np.mean(feature.spectral_bandwidth(y=y, sr=sr))\n",
    "    roll = np.mean(feature.spectral_rolloff(y=y, sr=sr))\n",
    "    contrast = np.mean(feature.spectral_contrast(y=y, sr=sr))\n",
    "    mfcc = np.mean(feature.mfcc(y=y, sr=sr))\n",
    "    zero = np.mean(feature.zero_crossing_rate(y=y))\n",
    "    rms = np.mean(feature.rms(y=y))\n",
    "    tonnetz = np.mean(feature.tonnetz(y=y, sr=sr))\n",
    "    \n",
    "    feat_vect = [chroma, centr, band, roll, contrast, mfcc, zero, rms, tonnetz] \n",
    "    return feat_vect"
   ]
  },
  {
   "cell_type": "markdown",
   "id": "4f42b57e",
   "metadata": {
    "papermill": {
     "duration": 0.004298,
     "end_time": "2024-02-05T05:32:57.558260",
     "exception": false,
     "start_time": "2024-02-05T05:32:57.553962",
     "status": "completed"
    },
    "tags": []
   },
   "source": [
    "## Data Feature Extraction Loop:\n",
    "This section loops through all of the files and runs the extraction functions on them, storing the results into a notes features array which will be used later to create the csv file for this project. A label is also created for each folder of different notes for the y value of each row in the csv file."
   ]
  },
  {
   "cell_type": "code",
   "execution_count": 4,
   "id": "954da565",
   "metadata": {
    "execution": {
     "iopub.execute_input": "2024-02-05T05:32:57.569243Z",
     "iopub.status.busy": "2024-02-05T05:32:57.568843Z",
     "iopub.status.idle": "2024-02-05T05:44:15.013094Z",
     "shell.execute_reply": "2024-02-05T05:44:15.011900Z"
    },
    "papermill": {
     "duration": 677.45346,
     "end_time": "2024-02-05T05:44:15.016177",
     "exception": false,
     "start_time": "2024-02-05T05:32:57.562717",
     "status": "completed"
    },
    "tags": []
   },
   "outputs": [
    {
     "name": "stdout",
     "output_type": "stream",
     "text": [
      "23. D1\n"
     ]
    },
    {
     "name": "stderr",
     "output_type": "stream",
     "text": [
      "/opt/conda/lib/python3.10/site-packages/librosa/core/spectrum.py:257: UserWarning: n_fft=1024 is too large for input signal of length=724\n",
      "  warnings.warn(\n",
      "/opt/conda/lib/python3.10/site-packages/librosa/core/spectrum.py:257: UserWarning: n_fft=1024 is too large for input signal of length=362\n",
      "  warnings.warn(\n",
      "/opt/conda/lib/python3.10/site-packages/librosa/core/spectrum.py:257: UserWarning: n_fft=1024 is too large for input signal of length=181\n",
      "  warnings.warn(\n"
     ]
    },
    {
     "name": "stdout",
     "output_type": "stream",
     "text": [
      "34. C-sharp 2\n",
      "37. E3\n",
      "26. F2\n",
      "14. F1\n",
      "5. G-sharp\n"
     ]
    },
    {
     "name": "stderr",
     "output_type": "stream",
     "text": [
      "/opt/conda/lib/python3.10/site-packages/librosa/core/pitch.py:101: UserWarning: Trying to estimate tuning from empty frequency set.\n",
      "  return pitch_tuning(\n"
     ]
    },
    {
     "name": "stdout",
     "output_type": "stream",
     "text": [
      "17. G-sharp 1\n",
      "31. A-sharp 2\n",
      "24. D-sharp 1\n",
      "11. D\n",
      "21. C1\n",
      "10. C-sharp\n",
      "20. B1\n",
      "36. D-sharp 2\n",
      "8. B\n",
      "15. F-sharp 1\n",
      "33. C2\n",
      "19. A-sharp 1\n",
      "16. G1\n",
      "25. E2\n",
      "4. G\n",
      "7. A-sharp\n",
      "18. A1\n",
      "35. D2\n",
      "9. C\n",
      "6. A\n",
      "29. G-sharp 2\n",
      "22. C-sharp 1\n",
      "28. G2\n",
      "1. E\n",
      "2. F\n",
      "27. F-sharp 2\n",
      "13. E1\n",
      "32. B2\n",
      "30. A2\n",
      "12. D-sharp\n",
      "3. F-sharp\n"
     ]
    }
   ],
   "source": [
    "count = 0\n",
    "lengths = []\n",
    "notes_feats = []\n",
    "numNotes = 0\n",
    "for dirname, _, filenames in os.walk('/kaggle/input'):\n",
    "    count +=1\n",
    "    if(count > 3):\n",
    "        i = dirname.rfind('/')\n",
    "        label = dirname[i+1:]\n",
    "        numNotes += 1\n",
    "        print(label)\n",
    "    for filename in filenames:        \n",
    "        y, sr = librosa.load(os.path.join(dirname, filename),sr=None)\n",
    "        lengths.append(len(y))\n",
    "        feat_vect = extract_features(y,sr)\n",
    "        feat_vect.insert(0, label)\n",
    "        notes_feats.append(feat_vect)"
   ]
  },
  {
   "cell_type": "markdown",
   "id": "e7122711",
   "metadata": {
    "papermill": {
     "duration": 0.007845,
     "end_time": "2024-02-05T05:44:15.032805",
     "exception": false,
     "start_time": "2024-02-05T05:44:15.024960",
     "status": "completed"
    },
    "tags": []
   },
   "source": [
    "## Trimming the Spectrograms:\n",
    "\n",
    "Using the mean of the lengths of the spectrograms, they were able to be trimmed down to around the same length to allow for better data formatting."
   ]
  },
  {
   "cell_type": "code",
   "execution_count": 5,
   "id": "4ddb0cda",
   "metadata": {
    "execution": {
     "iopub.execute_input": "2024-02-05T05:44:15.051775Z",
     "iopub.status.busy": "2024-02-05T05:44:15.051136Z",
     "iopub.status.idle": "2024-02-05T05:44:15.060996Z",
     "shell.execute_reply": "2024-02-05T05:44:15.059774Z"
    },
    "papermill": {
     "duration": 0.023149,
     "end_time": "2024-02-05T05:44:15.064093",
     "exception": false,
     "start_time": "2024-02-05T05:44:15.040944",
     "status": "completed"
    },
    "tags": []
   },
   "outputs": [
    {
     "name": "stdout",
     "output_type": "stream",
     "text": [
      "23160.472246696034\n"
     ]
    }
   ],
   "source": [
    "s = pd.Series(lengths)\n",
    "print(s.mean())"
   ]
  },
  {
   "cell_type": "markdown",
   "id": "8c621c67",
   "metadata": {
    "papermill": {
     "duration": 0.00786,
     "end_time": "2024-02-05T05:44:15.080266",
     "exception": false,
     "start_time": "2024-02-05T05:44:15.072406",
     "status": "completed"
    },
    "tags": []
   },
   "source": [
    "## CSV File Creation:\n",
    "In this section the csv is populated and stored into a file called Guitar_features.csv. First the headers for each column are defined and then the rest of the rows are filed in with the 2d array stored in notes_feats."
   ]
  },
  {
   "cell_type": "code",
   "execution_count": 6,
   "id": "72303552",
   "metadata": {
    "execution": {
     "iopub.execute_input": "2024-02-05T05:44:15.099000Z",
     "iopub.status.busy": "2024-02-05T05:44:15.098519Z",
     "iopub.status.idle": "2024-02-05T05:44:15.143387Z",
     "shell.execute_reply": "2024-02-05T05:44:15.142117Z"
    },
    "papermill": {
     "duration": 0.058126,
     "end_time": "2024-02-05T05:44:15.146570",
     "exception": false,
     "start_time": "2024-02-05T05:44:15.088444",
     "status": "completed"
    },
    "tags": []
   },
   "outputs": [],
   "source": [
    "guitar_output = 'Guitar_features.csv'\n",
    "\n",
    "header =[\n",
    "    'note_names',\n",
    "    'chroma_stft',\n",
    "    'spectral_centroid',\n",
    "    'spectral_bandwidth',\n",
    "    'spectral_rolloff',\n",
    "    'spectral_contrast',\n",
    "    'mfcc',\n",
    "    'zero_crossing_rate',\n",
    "    'rms',\n",
    "    'tonnetz'\n",
    "]\n",
    "\n",
    "with open(guitar_output,'+w') as f:\n",
    "    csv_writer = csv.writer(f, delimiter = ',')\n",
    "    csv_writer.writerow(header)\n",
    "    csv_writer.writerows(notes_feats)"
   ]
  }
 ],
 "metadata": {
  "kaggle": {
   "accelerator": "none",
   "dataSources": [
    {
     "datasetId": 2572562,
     "sourceId": 4378959,
     "sourceType": "datasetVersion"
    }
   ],
   "dockerImageVersionId": 30626,
   "isGpuEnabled": false,
   "isInternetEnabled": true,
   "language": "python",
   "sourceType": "notebook"
  },
  "kernelspec": {
   "display_name": "Python 3",
   "language": "python",
   "name": "python3"
  },
  "language_info": {
   "codemirror_mode": {
    "name": "ipython",
    "version": 3
   },
   "file_extension": ".py",
   "mimetype": "text/x-python",
   "name": "python",
   "nbconvert_exporter": "python",
   "pygments_lexer": "ipython3",
   "version": "3.10.12"
  },
  "papermill": {
   "default_parameters": {},
   "duration": 684.369167,
   "end_time": "2024-02-05T05:44:16.281388",
   "environment_variables": {},
   "exception": null,
   "input_path": "__notebook__.ipynb",
   "output_path": "__notebook__.ipynb",
   "parameters": {},
   "start_time": "2024-02-05T05:32:51.912221",
   "version": "2.4.0"
  }
 },
 "nbformat": 4,
 "nbformat_minor": 5
}
