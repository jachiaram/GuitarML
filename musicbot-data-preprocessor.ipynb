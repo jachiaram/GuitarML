{
 "cells": [
  {
   "cell_type": "markdown",
   "id": "1f7c156a",
   "metadata": {
    "papermill": {
     "duration": 0.003686,
     "end_time": "2024-01-31T05:14:27.657932",
     "exception": false,
     "start_time": "2024-01-31T05:14:27.654246",
     "status": "completed"
    },
    "tags": []
   },
   "source": [
    "# Music Note Classifier"
   ]
  },
  {
   "cell_type": "markdown",
   "id": "0343fa5b",
   "metadata": {
    "papermill": {
     "duration": 0.00259,
     "end_time": "2024-01-31T05:14:27.663575",
     "exception": false,
     "start_time": "2024-01-31T05:14:27.660985",
     "status": "completed"
    },
    "tags": []
   },
   "source": [
    "The goal of this program is to create a useful segment of code to convert mp3 files into usable data for a machine learning model."
   ]
  },
  {
   "cell_type": "markdown",
   "id": "d867ff00",
   "metadata": {
    "papermill": {
     "duration": 0.00248,
     "end_time": "2024-01-31T05:14:27.668747",
     "exception": false,
     "start_time": "2024-01-31T05:14:27.666267",
     "status": "completed"
    },
    "tags": []
   },
   "source": [
    "## Import dependencies"
   ]
  },
  {
   "cell_type": "markdown",
   "id": "7d80a20e",
   "metadata": {
    "papermill": {
     "duration": 0.002433,
     "end_time": "2024-01-31T05:14:27.674164",
     "exception": false,
     "start_time": "2024-01-31T05:14:27.671731",
     "status": "completed"
    },
    "tags": []
   },
   "source": [
    "The four imports used to achieve this functionality are numpy, pandas, os, and librosa. Librosa used in conjunction with numpy allows for easy spectogram generation and feature extraction. The imports os and pandas are used for file I/O and storing the data extracted from the spectograms."
   ]
  },
  {
   "cell_type": "code",
   "execution_count": 1,
   "id": "81a193e2",
   "metadata": {
    "_cell_guid": "b1076dfc-b9ad-4769-8c92-a6c4dae69d19",
    "_uuid": "8f2839f25d086af736a60e9eeb907d3b93b6e0e5",
    "execution": {
     "iopub.execute_input": "2024-01-31T05:14:27.681944Z",
     "iopub.status.busy": "2024-01-31T05:14:27.681556Z",
     "iopub.status.idle": "2024-01-31T05:14:28.501811Z",
     "shell.execute_reply": "2024-01-31T05:14:28.500795Z"
    },
    "papermill": {
     "duration": 0.827144,
     "end_time": "2024-01-31T05:14:28.504258",
     "exception": false,
     "start_time": "2024-01-31T05:14:27.677114",
     "status": "completed"
    },
    "tags": []
   },
   "outputs": [],
   "source": [
    "import numpy as np\n",
    "import pandas as pd\n",
    "import os\n",
    "import librosa\n",
    "from librosa import feature\n",
    "import csv"
   ]
  },
  {
   "cell_type": "code",
   "execution_count": 2,
   "id": "3b3d816d",
   "metadata": {
    "execution": {
     "iopub.execute_input": "2024-01-31T05:14:28.511866Z",
     "iopub.status.busy": "2024-01-31T05:14:28.511365Z",
     "iopub.status.idle": "2024-01-31T05:14:28.516700Z",
     "shell.execute_reply": "2024-01-31T05:14:28.515659Z"
    },
    "papermill": {
     "duration": 0.011746,
     "end_time": "2024-01-31T05:14:28.519009",
     "exception": false,
     "start_time": "2024-01-31T05:14:28.507263",
     "status": "completed"
    },
    "tags": []
   },
   "outputs": [],
   "source": [
    "def load_spec(filename):\n",
    "    y, sr = librosa.load(filename)\n",
    "    y_trimmed, _ = librosa.effects.trim(y)\n",
    "    D = librosa.amplitude_to_db(np.abs(librosa.stft(y)), ref=np.max)\n",
    "    D = np.mean(D)\n",
    "#     mfccs = librosa.feature.mfcc(y=y, sr=sr, n_mfcc=13)\n",
    "#     S = librosa.feature.melspectrogram(y=y, sr=sr, n_mels=128)\n",
    "#     S_db_mel = librosa.amplitude_to_db(S, ref=np.max)\n",
    "    return D"
   ]
  },
  {
   "cell_type": "code",
   "execution_count": 3,
   "id": "0f035de0",
   "metadata": {
    "execution": {
     "iopub.execute_input": "2024-01-31T05:14:28.526367Z",
     "iopub.status.busy": "2024-01-31T05:14:28.526025Z",
     "iopub.status.idle": "2024-01-31T05:14:28.531601Z",
     "shell.execute_reply": "2024-01-31T05:14:28.530796Z"
    },
    "papermill": {
     "duration": 0.01145,
     "end_time": "2024-01-31T05:14:28.533396",
     "exception": false,
     "start_time": "2024-01-31T05:14:28.521946",
     "status": "completed"
    },
    "tags": []
   },
   "outputs": [],
   "source": [
    "# fn_list_ii = [\n",
    "#  feature.rmse,\n",
    "#  feature.zero_crossing_rate\n",
    "# ]\n",
    "\n",
    "def extract_features(y,sr):\n",
    "    chroma = np.mean(feature.chroma_stft(y=y, sr=sr))\n",
    "    centr = np.mean(feature.spectral_centroid(y=y, sr=sr))\n",
    "    band = np.mean(feature.spectral_bandwidth(y=y, sr=sr))\n",
    "    roll = np.mean(feature.spectral_rolloff(y=y, sr=sr))\n",
    "    \n",
    "    feat_vect = [chroma, centr, band, roll] \n",
    "    return feat_vect"
   ]
  },
  {
   "cell_type": "code",
   "execution_count": 4,
   "id": "4ba6a0cc",
   "metadata": {
    "execution": {
     "iopub.execute_input": "2024-01-31T05:14:28.540618Z",
     "iopub.status.busy": "2024-01-31T05:14:28.540054Z",
     "iopub.status.idle": "2024-01-31T05:15:59.606090Z",
     "shell.execute_reply": "2024-01-31T05:15:59.604706Z"
    },
    "papermill": {
     "duration": 91.073359,
     "end_time": "2024-01-31T05:15:59.609615",
     "exception": false,
     "start_time": "2024-01-31T05:14:28.536256",
     "status": "completed"
    },
    "tags": []
   },
   "outputs": [
    {
     "name": "stdout",
     "output_type": "stream",
     "text": [
      "23. D1\n",
      "34. C-sharp 2\n",
      "37. E3\n",
      "26. F2\n",
      "14. F1\n",
      "5. G-sharp\n",
      "17. G-sharp 1\n",
      "31. A-sharp 2\n",
      "24. D-sharp 1\n",
      "11. D\n",
      "21. C1\n",
      "10. C-sharp\n",
      "20. B1\n",
      "36. D-sharp 2\n",
      "8. B\n"
     ]
    },
    {
     "name": "stderr",
     "output_type": "stream",
     "text": [
      "/opt/conda/lib/python3.10/site-packages/librosa/core/pitch.py:101: UserWarning: Trying to estimate tuning from empty frequency set.\n",
      "  return pitch_tuning(\n"
     ]
    },
    {
     "name": "stdout",
     "output_type": "stream",
     "text": [
      "15. F-sharp 1\n",
      "33. C2\n",
      "19. A-sharp 1\n",
      "16. G1\n",
      "25. E2\n",
      "4. G\n",
      "7. A-sharp\n",
      "18. A1\n",
      "35. D2\n",
      "9. C\n",
      "6. A\n",
      "29. G-sharp 2\n",
      "22. C-sharp 1\n",
      "28. G2\n",
      "1. E\n",
      "2. F\n",
      "27. F-sharp 2\n",
      "13. E1\n",
      "32. B2\n",
      "30. A2\n",
      "12. D-sharp\n",
      "3. F-sharp\n"
     ]
    }
   ],
   "source": [
    "count = 0\n",
    "notes_feats = []\n",
    "for dirname, _, filenames in os.walk('/kaggle/input'):\n",
    "    count +=1\n",
    "    if(count > 3):\n",
    "        i = dirname.rfind('/')\n",
    "        label = dirname[i+1:]\n",
    "        print(label)\n",
    "    for filename in filenames:\n",
    "        #this segment loading a pair of spectogram values and a corresponding label\n",
    "#         d = load_spec(os.path.join(dirname, filename))\n",
    "#         pair = (label, d)\n",
    "#         list1.append(pair)\n",
    "        \n",
    "        y, sr = librosa.load(os.path.join(dirname, filename),sr=None)\n",
    "        feat_vect = extract_features(y,sr)\n",
    "        feat_vect.insert(0, label)\n",
    "        notes_feats.append(feat_vect)"
   ]
  },
  {
   "cell_type": "code",
   "execution_count": 5,
   "id": "f6643c8f",
   "metadata": {
    "execution": {
     "iopub.execute_input": "2024-01-31T05:15:59.629702Z",
     "iopub.status.busy": "2024-01-31T05:15:59.628798Z",
     "iopub.status.idle": "2024-01-31T05:15:59.665224Z",
     "shell.execute_reply": "2024-01-31T05:15:59.663964Z"
    },
    "papermill": {
     "duration": 0.050546,
     "end_time": "2024-01-31T05:15:59.669082",
     "exception": false,
     "start_time": "2024-01-31T05:15:59.618536",
     "status": "completed"
    },
    "tags": []
   },
   "outputs": [],
   "source": [
    "guitar_output = 'Guitar_features.csv'\n",
    "\n",
    "header =[\n",
    "    'note_names',\n",
    "    'chroma_stft',\n",
    "    'spectral_centroid',\n",
    "    'spectral_bandwidth',\n",
    "    'spectral_rolloff'\n",
    "#     'rmse',\n",
    "#     'zero_crossing_rate'\n",
    "]\n",
    "\n",
    "with open(guitar_output,'+w') as f:\n",
    "    csv_writer = csv.writer(f, delimiter = ',')\n",
    "    csv_writer.writerow(header)\n",
    "    csv_writer.writerows(notes_feats)"
   ]
  }
 ],
 "metadata": {
  "kaggle": {
   "accelerator": "none",
   "dataSources": [
    {
     "datasetId": 2572562,
     "sourceId": 4378959,
     "sourceType": "datasetVersion"
    }
   ],
   "dockerImageVersionId": 30626,
   "isGpuEnabled": false,
   "isInternetEnabled": true,
   "language": "python",
   "sourceType": "notebook"
  },
  "kernelspec": {
   "display_name": "Python 3",
   "language": "python",
   "name": "python3"
  },
  "language_info": {
   "codemirror_mode": {
    "name": "ipython",
    "version": 3
   },
   "file_extension": ".py",
   "mimetype": "text/x-python",
   "name": "python",
   "nbconvert_exporter": "python",
   "pygments_lexer": "ipython3",
   "version": "3.10.12"
  },
  "papermill": {
   "default_parameters": {},
   "duration": 96.863659,
   "end_time": "2024-01-31T05:16:00.715229",
   "environment_variables": {},
   "exception": null,
   "input_path": "__notebook__.ipynb",
   "output_path": "__notebook__.ipynb",
   "parameters": {},
   "start_time": "2024-01-31T05:14:23.851570",
   "version": "2.4.0"
  }
 },
 "nbformat": 4,
 "nbformat_minor": 5
}
