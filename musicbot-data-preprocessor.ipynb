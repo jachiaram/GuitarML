{
 "cells": [
  {
   "cell_type": "markdown",
   "id": "7e56071f",
   "metadata": {
    "papermill": {
     "duration": 0.004546,
     "end_time": "2024-01-31T05:57:38.509041",
     "exception": false,
     "start_time": "2024-01-31T05:57:38.504495",
     "status": "completed"
    },
    "tags": []
   },
   "source": [
    "# Music Note Classifier\n",
    "### The goal of this program is to create a useful segment of code to convert mp3 files into usable data for a machine learning model."
   ]
  },
  {
   "cell_type": "markdown",
   "id": "bb73e975",
   "metadata": {
    "papermill": {
     "duration": 0.004107,
     "end_time": "2024-01-31T05:57:38.517284",
     "exception": false,
     "start_time": "2024-01-31T05:57:38.513177",
     "status": "completed"
    },
    "tags": []
   },
   "source": [
    "## Import dependencies:\n",
    "\n",
    "The four imports used to achieve this functionality are numpy, pandas, os, and librosa. Librosa used in conjunction with numpy allows for easy spectogram generation and feature extraction. The os and csv are used for I/O and saving the features extracted to a csv file to push to the machine learning model."
   ]
  },
  {
   "cell_type": "code",
   "execution_count": 1,
   "id": "330cea8e",
   "metadata": {
    "_cell_guid": "b1076dfc-b9ad-4769-8c92-a6c4dae69d19",
    "_uuid": "8f2839f25d086af736a60e9eeb907d3b93b6e0e5",
    "execution": {
     "iopub.execute_input": "2024-01-31T05:57:38.527584Z",
     "iopub.status.busy": "2024-01-31T05:57:38.526761Z",
     "iopub.status.idle": "2024-01-31T05:57:39.495689Z",
     "shell.execute_reply": "2024-01-31T05:57:39.494309Z"
    },
    "papermill": {
     "duration": 0.977799,
     "end_time": "2024-01-31T05:57:39.498941",
     "exception": false,
     "start_time": "2024-01-31T05:57:38.521142",
     "status": "completed"
    },
    "tags": []
   },
   "outputs": [],
   "source": [
    "import numpy as np\n",
    "import pandas as pd\n",
    "import os\n",
    "import librosa\n",
    "from librosa import feature\n",
    "import csv"
   ]
  },
  {
   "cell_type": "markdown",
   "id": "2fcc15ac",
   "metadata": {
    "papermill": {
     "duration": 0.003802,
     "end_time": "2024-01-31T05:57:39.506946",
     "exception": false,
     "start_time": "2024-01-31T05:57:39.503144",
     "status": "completed"
    },
    "tags": []
   },
   "source": [
    "## Feature Extraction and Spectrogram Functions:\n",
    "In this section two functions are defined: load_spec and extract features. The load spec function loads the spectogram, trims it, and returns the mean of it. The extract_features takes in the spectogram and calls a list of feature extraction functions, takes the mean of them, and stores them into an array."
   ]
  },
  {
   "cell_type": "code",
   "execution_count": 2,
   "id": "7384f604",
   "metadata": {
    "execution": {
     "iopub.execute_input": "2024-01-31T05:57:39.517699Z",
     "iopub.status.busy": "2024-01-31T05:57:39.516561Z",
     "iopub.status.idle": "2024-01-31T05:57:39.523627Z",
     "shell.execute_reply": "2024-01-31T05:57:39.522512Z"
    },
    "papermill": {
     "duration": 0.015046,
     "end_time": "2024-01-31T05:57:39.526057",
     "exception": false,
     "start_time": "2024-01-31T05:57:39.511011",
     "status": "completed"
    },
    "tags": []
   },
   "outputs": [],
   "source": [
    "def load_spec(filename):\n",
    "    y, sr = librosa.load(filename)\n",
    "    y_trimmed, _ = librosa.effects.trim(y)\n",
    "    D = librosa.amplitude_to_db(np.abs(librosa.stft(y)), ref=np.max)\n",
    "    D = np.mean(D)\n",
    "#     mfccs = librosa.feature.mfcc(y=y, sr=sr, n_mfcc=13)\n",
    "#     S = librosa.feature.melspectrogram(y=y, sr=sr, n_mels=128)\n",
    "#     S_db_mel = librosa.amplitude_to_db(S, ref=np.max)\n",
    "    return D"
   ]
  },
  {
   "cell_type": "code",
   "execution_count": 3,
   "id": "2b856ad9",
   "metadata": {
    "execution": {
     "iopub.execute_input": "2024-01-31T05:57:39.536222Z",
     "iopub.status.busy": "2024-01-31T05:57:39.535819Z",
     "iopub.status.idle": "2024-01-31T05:57:39.542869Z",
     "shell.execute_reply": "2024-01-31T05:57:39.541724Z"
    },
    "papermill": {
     "duration": 0.01515,
     "end_time": "2024-01-31T05:57:39.545339",
     "exception": false,
     "start_time": "2024-01-31T05:57:39.530189",
     "status": "completed"
    },
    "tags": []
   },
   "outputs": [],
   "source": [
    "# fn_list_ii = [\n",
    "#  feature.rmse,\n",
    "#  feature.zero_crossing_rate\n",
    "# ]\n",
    "\n",
    "def extract_features(y,sr):\n",
    "    chroma = np.mean(feature.chroma_stft(y=y, sr=sr))\n",
    "    centr = np.mean(feature.spectral_centroid(y=y, sr=sr))\n",
    "    band = np.mean(feature.spectral_bandwidth(y=y, sr=sr))\n",
    "    roll = np.mean(feature.spectral_rolloff(y=y, sr=sr))\n",
    "    \n",
    "    feat_vect = [chroma, centr, band, roll] \n",
    "    return feat_vect"
   ]
  },
  {
   "cell_type": "markdown",
   "id": "302c85f9",
   "metadata": {
    "papermill": {
     "duration": 0.003602,
     "end_time": "2024-01-31T05:57:39.552928",
     "exception": false,
     "start_time": "2024-01-31T05:57:39.549326",
     "status": "completed"
    },
    "tags": []
   },
   "source": [
    "## Data Feature Extraction Loop:\n",
    "This section loops through all of the files and runs the extraction functions on them, storing the results into a notes features array which will be used later to create the csv file for this project. A label is also created for each folder of different notes for the y value of each row in the csv file."
   ]
  },
  {
   "cell_type": "code",
   "execution_count": 4,
   "id": "354f78e4",
   "metadata": {
    "execution": {
     "iopub.execute_input": "2024-01-31T05:57:39.563656Z",
     "iopub.status.busy": "2024-01-31T05:57:39.562499Z",
     "iopub.status.idle": "2024-01-31T05:59:41.169498Z",
     "shell.execute_reply": "2024-01-31T05:59:41.167792Z"
    },
    "papermill": {
     "duration": 121.617777,
     "end_time": "2024-01-31T05:59:41.174908",
     "exception": false,
     "start_time": "2024-01-31T05:57:39.557131",
     "status": "completed"
    },
    "tags": []
   },
   "outputs": [
    {
     "name": "stdout",
     "output_type": "stream",
     "text": [
      "23. D1\n",
      "34. C-sharp 2\n",
      "37. E3\n",
      "26. F2\n",
      "14. F1\n",
      "5. G-sharp\n",
      "17. G-sharp 1\n",
      "31. A-sharp 2\n",
      "24. D-sharp 1\n",
      "11. D\n",
      "21. C1\n",
      "10. C-sharp\n",
      "20. B1\n",
      "36. D-sharp 2\n",
      "8. B\n"
     ]
    },
    {
     "name": "stderr",
     "output_type": "stream",
     "text": [
      "/opt/conda/lib/python3.10/site-packages/librosa/core/pitch.py:101: UserWarning: Trying to estimate tuning from empty frequency set.\n",
      "  return pitch_tuning(\n"
     ]
    },
    {
     "name": "stdout",
     "output_type": "stream",
     "text": [
      "15. F-sharp 1\n",
      "33. C2\n",
      "19. A-sharp 1\n",
      "16. G1\n",
      "25. E2\n",
      "4. G\n",
      "7. A-sharp\n",
      "18. A1\n",
      "35. D2\n",
      "9. C\n",
      "6. A\n",
      "29. G-sharp 2\n",
      "22. C-sharp 1\n",
      "28. G2\n",
      "1. E\n",
      "2. F\n",
      "27. F-sharp 2\n",
      "13. E1\n",
      "32. B2\n",
      "30. A2\n",
      "12. D-sharp\n",
      "3. F-sharp\n"
     ]
    }
   ],
   "source": [
    "count = 0\n",
    "notes_feats = []\n",
    "for dirname, _, filenames in os.walk('/kaggle/input'):\n",
    "    count +=1\n",
    "    if(count > 3):\n",
    "        i = dirname.rfind('/')\n",
    "        label = dirname[i+1:]\n",
    "        print(label)\n",
    "    for filename in filenames:\n",
    "#         d = load_spec(os.path.join(dirname, filename))\n",
    "#         pair = (label, d)\n",
    "#         list1.append(pair)\n",
    "        \n",
    "        y, sr = librosa.load(os.path.join(dirname, filename),sr=None)\n",
    "        feat_vect = extract_features(y,sr)\n",
    "        feat_vect.insert(0, label)\n",
    "        notes_feats.append(feat_vect)"
   ]
  },
  {
   "cell_type": "markdown",
   "id": "8b7e3f81",
   "metadata": {
    "papermill": {
     "duration": 0.014962,
     "end_time": "2024-01-31T05:59:41.206696",
     "exception": false,
     "start_time": "2024-01-31T05:59:41.191734",
     "status": "completed"
    },
    "tags": []
   },
   "source": [
    "## CSV File Creation:\n",
    "In this section the csv is populated and stored into a file called Guitar_features.csv. First the headers for each column are defined and then the rest of the rows are filed in with the 2d array stored in notes_feats."
   ]
  },
  {
   "cell_type": "code",
   "execution_count": 5,
   "id": "d472917f",
   "metadata": {
    "execution": {
     "iopub.execute_input": "2024-01-31T05:59:41.241286Z",
     "iopub.status.busy": "2024-01-31T05:59:41.240019Z",
     "iopub.status.idle": "2024-01-31T05:59:41.280648Z",
     "shell.execute_reply": "2024-01-31T05:59:41.279553Z"
    },
    "papermill": {
     "duration": 0.061337,
     "end_time": "2024-01-31T05:59:41.283547",
     "exception": false,
     "start_time": "2024-01-31T05:59:41.222210",
     "status": "completed"
    },
    "tags": []
   },
   "outputs": [],
   "source": [
    "guitar_output = 'Guitar_features.csv'\n",
    "\n",
    "header =[\n",
    "    'note_names',\n",
    "    'chroma_stft',\n",
    "    'spectral_centroid',\n",
    "    'spectral_bandwidth',\n",
    "    'spectral_rolloff'\n",
    "#     'rmse',\n",
    "#     'zero_crossing_rate'\n",
    "]\n",
    "\n",
    "with open(guitar_output,'+w') as f:\n",
    "    csv_writer = csv.writer(f, delimiter = ',')\n",
    "    csv_writer.writerow(header)\n",
    "    csv_writer.writerows(notes_feats)"
   ]
  }
 ],
 "metadata": {
  "kaggle": {
   "accelerator": "none",
   "dataSources": [
    {
     "datasetId": 2572562,
     "sourceId": 4378959,
     "sourceType": "datasetVersion"
    }
   ],
   "dockerImageVersionId": 30626,
   "isGpuEnabled": false,
   "isInternetEnabled": true,
   "language": "python",
   "sourceType": "notebook"
  },
  "kernelspec": {
   "display_name": "Python 3",
   "language": "python",
   "name": "python3"
  },
  "language_info": {
   "codemirror_mode": {
    "name": "ipython",
    "version": 3
   },
   "file_extension": ".py",
   "mimetype": "text/x-python",
   "name": "python",
   "nbconvert_exporter": "python",
   "pygments_lexer": "ipython3",
   "version": "3.10.12"
  },
  "papermill": {
   "default_parameters": {},
   "duration": 128.10918,
   "end_time": "2024-01-31T05:59:42.314674",
   "environment_variables": {},
   "exception": null,
   "input_path": "__notebook__.ipynb",
   "output_path": "__notebook__.ipynb",
   "parameters": {},
   "start_time": "2024-01-31T05:57:34.205494",
   "version": "2.4.0"
  }
 },
 "nbformat": 4,
 "nbformat_minor": 5
}
